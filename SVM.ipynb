{
  "nbformat": 4,
  "nbformat_minor": 0,
  "metadata": {
    "colab": {
      "provenance": [],
      "authorship_tag": "ABX9TyO7vOS0gyq4jX7myFvmma6V",
      "include_colab_link": true
    },
    "kernelspec": {
      "name": "python3",
      "display_name": "Python 3"
    },
    "language_info": {
      "name": "python"
    }
  },
  "cells": [
    {
      "cell_type": "markdown",
      "metadata": {
        "id": "view-in-github",
        "colab_type": "text"
      },
      "source": [
        "<a href=\"https://colab.research.google.com/github/JMartinArocha/MasterBigData/blob/main/SVM.ipynb\" target=\"_parent\"><img src=\"https://colab.research.google.com/assets/colab-badge.svg\" alt=\"Open In Colab\"/></a>"
      ]
    },
    {
      "cell_type": "code",
      "execution_count": null,
      "metadata": {
        "id": "hVnoX2xDB-LK"
      },
      "outputs": [],
      "source": []
    },
    {
      "cell_type": "markdown",
      "source": [
        "# SVC"
      ],
      "metadata": {
        "id": "Q5UNMSMjCoi3"
      }
    },
    {
      "cell_type": "markdown",
      "source": [
        "El primer ejemplo utiliza el modelo SVC (Support Vector Classification) de la biblioteca scikit-learn para realizar una clasificación multiclase en el conocido conjunto de datos Iris. Este conjunto contiene datos de tres especies diferentes de flores de iris, con características como el largo y ancho de sépalos y pétalos.\n",
        "\n"
      ],
      "metadata": {
        "id": "0Mia3MOXEEgr"
      }
    },
    {
      "cell_type": "code",
      "source": [
        "import seaborn as sns\n",
        "from sklearn.svm import SVC\n",
        "from sklearn.model_selection import train_test_split\n",
        "from sklearn.metrics import classification_report, confusion_matrix\n",
        "\n",
        "# Cargamos el conjunto de datos\n",
        "iris = sns.load_dataset('iris')\n",
        "\n",
        "# Separamos los datos en características y etiquetas\n",
        "X_iris = iris.drop('species', axis=1)\n",
        "y_iris = iris['species']\n",
        "\n",
        "# Dividimos los datos en conjuntos de entrenamiento y prueba\n",
        "X_train, X_test, y_train, y_test = train_test_split(X_iris, y_iris, test_size=0.3, random_state=42)\n",
        "\n",
        "# Creamos el modelo SVM\n",
        "model = SVC(kernel='linear')  # Puedes probar otros kernels como 'rbf', 'poly', etc.\n",
        "\n",
        "# Entrenamos el modelo\n",
        "model.fit(X_train, y_train)\n",
        "\n",
        "# Realizamos predicciones en el conjunto de prueba\n",
        "predictions = model.predict(X_test)\n",
        "\n",
        "# Evaluamos el modelo\n",
        "print(classification_report(y_test, predictions))\n",
        "print(confusion_matrix(y_test, predictions))\n"
      ],
      "metadata": {
        "colab": {
          "base_uri": "https://localhost:8080/"
        },
        "id": "mxUfq8hTCpMc",
        "outputId": "0850e285-3e65-4a94-a45c-1b7f151454da"
      },
      "execution_count": 1,
      "outputs": [
        {
          "output_type": "stream",
          "name": "stdout",
          "text": [
            "              precision    recall  f1-score   support\n",
            "\n",
            "      setosa       1.00      1.00      1.00        19\n",
            "  versicolor       1.00      1.00      1.00        13\n",
            "   virginica       1.00      1.00      1.00        13\n",
            "\n",
            "    accuracy                           1.00        45\n",
            "   macro avg       1.00      1.00      1.00        45\n",
            "weighted avg       1.00      1.00      1.00        45\n",
            "\n",
            "[[19  0  0]\n",
            " [ 0 13  0]\n",
            " [ 0  0 13]]\n"
          ]
        }
      ]
    },
    {
      "cell_type": "markdown",
      "source": [
        "# SVC"
      ],
      "metadata": {
        "id": "K-p_fQMHC7Qu"
      }
    },
    {
      "cell_type": "markdown",
      "source": [
        "El segundo ejemplo ilustra cómo utilizar OneClassSVM para la detección de anomalías, también utilizando el conjunto de datos Iris. OneClassSVM es un enfoque diferente del SVM tradicional, enfocado en identificar datos que son \"anómalos\" o diferentes de un conjunto de entrenamiento dado.\n",
        "\n"
      ],
      "metadata": {
        "id": "amoBthV8ELZU"
      }
    },
    {
      "cell_type": "code",
      "source": [
        "import seaborn as sns\n",
        "from sklearn.svm import OneClassSVM\n",
        "from sklearn.model_selection import train_test_split\n",
        "from sklearn.metrics import classification_report, confusion_matrix\n",
        "\n",
        "# Cargamos el conjunto de datos\n",
        "iris = sns.load_dataset('iris')\n",
        "\n",
        "# Elegimos una especie para entrenar el modelo. Ejemplo: 'setosa'\n",
        "iris_setosa = iris[iris['species'] == 'setosa']\n",
        "\n",
        "# Separamos los datos en características y etiquetas\n",
        "X_setosa = iris_setosa.drop('species', axis=1)\n",
        "\n",
        "# Creamos el modelo OneClassSVM\n",
        "model = OneClassSVM(kernel='rbf', gamma='auto')\n",
        "\n",
        "# Entrenamos el modelo solo con los datos de 'setosa'\n",
        "model.fit(X_setosa)\n",
        "\n",
        "# Ahora, probemos el modelo con todo el conjunto de datos\n",
        "X_all = iris.drop('species', axis=1)\n",
        "y_all = iris['species']\n",
        "\n",
        "# Realizamos predicciones\n",
        "predictions = model.predict(X_all)\n",
        "\n",
        "# Las predicciones devolverán 1 para los puntos de datos similares a 'setosa' y -1 para los diferentes\n",
        "# Convertimos estas predicciones en etiquetas de especie para facilitar la comprensión\n",
        "predicted_species = ['setosa' if p == 1 else 'non-setosa' for p in predictions]\n",
        "\n",
        "# Evaluación (ten en cuenta que esta evaluación es solo para propósitos ilustrativos)\n",
        "print(classification_report(y_all, predicted_species))\n",
        "print(confusion_matrix(y_all, predicted_species))"
      ],
      "metadata": {
        "colab": {
          "base_uri": "https://localhost:8080/"
        },
        "outputId": "29049ee5-85b4-47e8-9b00-998fd28dce3c",
        "id": "Mgrv88_9C7Qu"
      },
      "execution_count": 4,
      "outputs": [
        {
          "output_type": "stream",
          "name": "stdout",
          "text": [
            "              precision    recall  f1-score   support\n",
            "\n",
            "  non-setosa       0.00      0.00      0.00         0\n",
            "      setosa       1.00      0.48      0.65        50\n",
            "  versicolor       0.00      0.00      0.00        50\n",
            "   virginica       0.00      0.00      0.00        50\n",
            "\n",
            "    accuracy                           0.16       150\n",
            "   macro avg       0.25      0.12      0.16       150\n",
            "weighted avg       0.33      0.16      0.22       150\n",
            "\n",
            "[[ 0  0  0  0]\n",
            " [26 24  0  0]\n",
            " [50  0  0  0]\n",
            " [50  0  0  0]]\n"
          ]
        },
        {
          "output_type": "stream",
          "name": "stderr",
          "text": [
            "/usr/local/lib/python3.10/dist-packages/sklearn/metrics/_classification.py:1344: UndefinedMetricWarning: Precision and F-score are ill-defined and being set to 0.0 in labels with no predicted samples. Use `zero_division` parameter to control this behavior.\n",
            "  _warn_prf(average, modifier, msg_start, len(result))\n",
            "/usr/local/lib/python3.10/dist-packages/sklearn/metrics/_classification.py:1344: UndefinedMetricWarning: Recall and F-score are ill-defined and being set to 0.0 in labels with no true samples. Use `zero_division` parameter to control this behavior.\n",
            "  _warn_prf(average, modifier, msg_start, len(result))\n",
            "/usr/local/lib/python3.10/dist-packages/sklearn/metrics/_classification.py:1344: UndefinedMetricWarning: Precision and F-score are ill-defined and being set to 0.0 in labels with no predicted samples. Use `zero_division` parameter to control this behavior.\n",
            "  _warn_prf(average, modifier, msg_start, len(result))\n",
            "/usr/local/lib/python3.10/dist-packages/sklearn/metrics/_classification.py:1344: UndefinedMetricWarning: Recall and F-score are ill-defined and being set to 0.0 in labels with no true samples. Use `zero_division` parameter to control this behavior.\n",
            "  _warn_prf(average, modifier, msg_start, len(result))\n",
            "/usr/local/lib/python3.10/dist-packages/sklearn/metrics/_classification.py:1344: UndefinedMetricWarning: Precision and F-score are ill-defined and being set to 0.0 in labels with no predicted samples. Use `zero_division` parameter to control this behavior.\n",
            "  _warn_prf(average, modifier, msg_start, len(result))\n",
            "/usr/local/lib/python3.10/dist-packages/sklearn/metrics/_classification.py:1344: UndefinedMetricWarning: Recall and F-score are ill-defined and being set to 0.0 in labels with no true samples. Use `zero_division` parameter to control this behavior.\n",
            "  _warn_prf(average, modifier, msg_start, len(result))\n"
          ]
        }
      ]
    }
  ]
}