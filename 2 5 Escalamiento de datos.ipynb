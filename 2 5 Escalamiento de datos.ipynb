{
  "nbformat": 4,
  "nbformat_minor": 0,
  "metadata": {
    "colab": {
      "provenance": [],
      "include_colab_link": true
    },
    "kernelspec": {
      "name": "python3",
      "display_name": "Python 3"
    },
    "language_info": {
      "name": "python"
    }
  },
  "cells": [
    {
      "cell_type": "markdown",
      "metadata": {
        "id": "view-in-github",
        "colab_type": "text"
      },
      "source": [
        "<a href=\"https://colab.research.google.com/github/JMartinArocha/MasterBigData/blob/main/2%205%20Escalamiento%20de%20datos.ipynb\" target=\"_parent\"><img src=\"https://colab.research.google.com/assets/colab-badge.svg\" alt=\"Open In Colab\"/></a>"
      ]
    },
    {
      "cell_type": "markdown",
      "metadata": {
        "id": "JNlEk7ihS-5l"
      },
      "source": [
        "# **Ejemplo 5:** Escalamiento de datos"
      ]
    },
    {
      "cell_type": "code",
      "metadata": {
        "id": "ZXs_JcsqTF59"
      },
      "source": [
        "# LIBRERÍAS EMPLEADAS EN EL EJEMPLO\n",
        "# Tratamiento de datos\n",
        "# ==============================================================================\n",
        "import numpy as np\n",
        "import pandas as pd\n",
        "# Gráficos\n",
        "# ==============================================================================\n",
        "import matplotlib.pyplot as plt\n",
        "# Preprocesado\n",
        "#==============================================================================\n",
        "from sklearn.compose import ColumnTransformer\n",
        "from sklearn.preprocessing import StandardScaler  # Para el escalamiento Estandarización Z\n",
        "from sklearn.preprocessing import MinMaxScaler # Para el escalamiento por Rangos\n",
        "from sklearn.compose import make_column_selector\n",
        "\n",
        "# Creación del conjunto de datos (dos máquinas embotelladoras)\n",
        "# ==============================================================================\n",
        "muA, sigmaA = 1000, 1 # media y desviación estándar embotelladora A\n",
        "muB, sigmaB = 1000, 4 # media y desviación estándar embotelladora B\n",
        "datosA = np.random.normal(muA, sigmaA, 1000)\n",
        "datosB = np.random.normal(muB, sigmaB, 1000)\n",
        "datos=np.column_stack((datosA, datosB))\n",
        "\n",
        "# Título: ¿qué es un DataFrame?\n",
        "#Url: https://datacarpentry.org/python-ecology-lesson-es/02-starting-with-data/#entonces-qu%C3%A9-es-un-dataframe\n",
        "Data = pd.DataFrame(datos, columns=['Embotelladora_A', 'Embotelladora_B'])\n",
        "\n",
        "# Escalamiento\n",
        "# ==============================================================================\n",
        "# Selección de columnas numéricas\n",
        "numeric_cols = Data.select_dtypes(include=['float64', 'int']).columns.to_list()\n",
        "# Standard scaler - Definimos el tipo de escalamientoa realizar: estandarización Z-score\n",
        "preprocessor_SS = ColumnTransformer(\n",
        "                   [('scale', StandardScaler(), numeric_cols)],remainder='passthrough')\n",
        "\n",
        "# MinMaxScaler - Definimos el tipo de escalamiento a realizar: Estandarización por rangos\n",
        "preprocessor_RR = ColumnTransformer(\n",
        "                   [('scale', MinMaxScaler(), numeric_cols)],remainder='passthrough')\n",
        "\n",
        "Data_prep_SS = preprocessor_SS.fit_transform(Data)\n",
        "Data_prep_RR = preprocessor_RR.fit_transform(Data)\n",
        "# Nota:\n",
        "# Se podría aplicar las transformaciones a cualquier conjunto de datos con\n",
        "# Data_new_prep_SS  = preprocessor_SS.transform(Data_new)\n",
        "Data_prep_SS_v2  = preprocessor_SS.transform(Data) # Podemos observar que los resultados son los mismos que el método fit_transform\n",
        "\n",
        "# Título: Diferencia entre fit_transform() y transform() en Scikit-Learn\n",
        "# Url: https://forum.huawei.com/enterprise/es/diferencia-entre-fit-transform-y-transform-en-scikit-learn/thread/891275-100757"
      ],
      "execution_count": 1,
      "outputs": []
    },
    {
      "cell_type": "code",
      "source": [
        "# Histograma antes de escalamiento\n",
        "plt.hist(Data, 50)\n",
        "plt.ylabel('Número de datos')\n",
        "plt.xlabel('valores')\n",
        "plt.title('Histograma antes de escalamiento')\n",
        "plt.show()"
      ],
      "metadata": {
        "colab": {
          "base_uri": "https://localhost:8080/",
          "height": 472
        },
        "id": "gB5pTCLd3QvU",
        "outputId": "1506e3a2-2db9-43cb-a6d3-25e08d31ffdc"
      },
      "execution_count": 2,
      "outputs": [
        {
          "output_type": "display_data",
          "data": {
            "text/plain": [
              "<Figure size 640x480 with 1 Axes>"
            ],
            "image/png": "[encoded data removed]"
          },
          "metadata": {}
        }
      ]
    },
    {
      "cell_type": "markdown",
      "metadata": {
        "id": "msK4x0lsT9aV"
      },
      "source": [
        "Representacióón de los datos escalado con **Standard Scaler**\n",
        " - Estandariación/Escalamiento por desviación típica\n"
      ]
    },
    {
      "cell_type": "code",
      "metadata": {
        "colab": {
          "base_uri": "https://localhost:8080/",
          "height": 472
        },
        "id": "0y6FUrwLUipt",
        "outputId": "c9c7d3f3-e721-419d-dda6-02ba1da69170"
      },
      "source": [
        "plt.hist(Data_prep_SS, 50)\n",
        "plt.ylabel('Número de datos')\n",
        "plt.xlabel('valores')\n",
        "plt.title('Histograma con Standard scaler - Estandarización Z')\n",
        "plt.show()"
      ],
      "execution_count": 3,
      "outputs": [
        {
          "output_type": "display_data",
          "data": {
            "text/plain": [
              "<Figure size 640x480 with 1 Axes>"
            ],
            "image/png": "[encoded data removed]"
          },
          "metadata": {}
        }
      ]
    },
    {
      "cell_type": "markdown",
      "metadata": {
        "id": "AM9ZLM4Vs64f"
      },
      "source": [
        "**NOTA** Observar que las **dos** variables tienen la misma desviación típica (s=1)"
      ]
    },
    {
      "cell_type": "code",
      "source": [
        "Data_prep_SS.std()\n"
      ],
      "metadata": {
        "colab": {
          "base_uri": "https://localhost:8080/"
        },
        "id": "kVSO26IL7REf",
        "outputId": "989f394d-1c7d-4017-f9f2-968d9c7ad3c4"
      },
      "execution_count": 4,
      "outputs": [
        {
          "output_type": "execute_result",
          "data": {
            "text/plain": [
              "1.0"
            ]
          },
          "metadata": {},
          "execution_count": 4
        }
      ]
    },
    {
      "cell_type": "markdown",
      "metadata": {
        "id": "InNWa2tdV1yb"
      },
      "source": [
        "Representación de los datos escalado con **Min Max Scaler** - Estandariación/Escalamiento por rangos\n",
        "\n"
      ]
    },
    {
      "cell_type": "code",
      "metadata": {
        "colab": {
          "base_uri": "https://localhost:8080/",
          "height": 472
        },
        "id": "tb5uNSt5Vgx-",
        "outputId": "d025762e-7a2b-44aa-bd60-b6c928ee306b"
      },
      "source": [
        "plt.hist(Data_prep_RR, 50)\n",
        "plt.ylabel('Número de datos')\n",
        "plt.xlabel('valores')\n",
        "plt.title('Histograma con MinMaxScaler - Por Rangos')\n",
        "plt.show()"
      ],
      "execution_count": 5,
      "outputs": [
        {
          "output_type": "display_data",
          "data": {
            "text/plain": [
              "<Figure size 640x480 with 1 Axes>"
            ],
            "image/png": "[encoded data removed]"
          },
          "metadata": {}
        }
      ]
    },
    {
      "cell_type": "markdown",
      "metadata": {
        "id": "oVEusoT3tST1"
      },
      "source": [
        "**NOTA** Observar que las **dos** variables tienen el mismo rango"
      ]
    },
    {
      "cell_type": "code",
      "source": [
        "#Rango\n",
        "#Data_prep_RR[:,0]\n",
        "np.max(Data_prep_RR[:,0])-np.min(Data_prep_RR[:,0])"
      ],
      "metadata": {
        "colab": {
          "base_uri": "https://localhost:8080/"
        },
        "id": "1wmnQasXIbl3",
        "outputId": "490ea8db-3511-49a1-9bc2-024fe125ae5b"
      },
      "execution_count": 6,
      "outputs": [
        {
          "output_type": "execute_result",
          "data": {
            "text/plain": [
              "1.0"
            ]
          },
          "metadata": {},
          "execution_count": 6
        }
      ]
    },
    {
      "cell_type": "code",
      "source": [
        "#Rango\n",
        "#Data_prep_RR[:,1]\n",
        "np.max(Data_prep_RR[:,1])-np.min(Data_prep_RR[:,1])"
      ],
      "metadata": {
        "colab": {
          "base_uri": "https://localhost:8080/"
        },
        "id": "o_RLBkVWIeR4",
        "outputId": "7a268edf-209f-44a7-b757-1b92bc05807e"
      },
      "execution_count": 7,
      "outputs": [
        {
          "output_type": "execute_result",
          "data": {
            "text/plain": [
              "1.0"
            ]
          },
          "metadata": {},
          "execution_count": 7
        }
      ]
    },
    {
      "cell_type": "code",
      "source": [
        "x = [1,2,3,4,5,6,7,8,9,10]\n",
        "media = np.mean(x)\n",
        "mediana = np.median(x)\n",
        "desviacion_estandar = np.std(x)\n",
        "varianza = np.var(x, ddof=1)\n",
        "rango = np.max(x) - np.min(x)\n",
        "\n",
        "print(f\"Media: {media}\")\n",
        "print(f\"Mediana: {mediana}\")\n",
        "print(f\"Desviación Estándar Muestral: {desviacion_estandar}\")\n",
        "print(f\"Varianza Muestral: {varianza}\")\n",
        "print(f\"Rango: {rango}\")\n",
        "\n"
      ],
      "metadata": {
        "colab": {
          "base_uri": "https://localhost:8080/"
        },
        "id": "WhsyXzpJWVJ5",
        "outputId": "93a7ae02-ac06-4169-bd5a-322adcf6f0c8"
      },
      "execution_count": 13,
      "outputs": [
        {
          "output_type": "stream",
          "name": "stdout",
          "text": [
            "Media: 5.5\n",
            "Mediana: 5.5\n",
            "Desviación Estándar Muestral: 2.8722813232690143\n",
            "Varianza Muestral: 9.166666666666666\n",
            "Rango: 9\n"
          ]
        }
      ]
    },
    {
      "cell_type": "code",
      "source": [
        "df = pd.DataFrame(x, columns=['Columna'])\n",
        "df.describe()\n"
      ],
      "metadata": {
        "colab": {
          "base_uri": "https://localhost:8080/",
          "height": 300
        },
        "id": "zR7mPrWPVPU4",
        "outputId": "f9e7d90c-579e-43e9-8830-1d43912b4194"
      },
      "execution_count": 11,
      "outputs": [
        {
          "output_type": "execute_result",
          "data": {
            "text/plain": [
              "        Columna\n",
              "count  10.00000\n",
              "mean    5.50000\n",
              "std     3.02765\n",
              "min     1.00000\n",
              "25%     3.25000\n",
              "50%     5.50000\n",
              "75%     7.75000\n",
              "max    10.00000"
            ],
            "text/html": [
              "\n",
              "  <div id=\"df-0ae2607e-005b-49c7-a8e0-f4c336f6bb43\" class=\"colab-df-container\">\n",
              "    <div>\n",
              "<style scoped>\n",
              "    .dataframe tbody tr th:only-of-type {\n",
              "        vertical-align: middle;\n",
              "    }\n",
              "\n",
              "    .dataframe tbody tr th {\n",
              "        vertical-align: top;\n",
              "    }\n",
              "\n",
              "    .dataframe thead th {\n",
              "        text-align: right;\n",
              "    }\n",
              "</style>\n",
              "<table border=\"1\" class=\"dataframe\">\n",
              "  <thead>\n",
              "    <tr style=\"text-align: right;\">\n",
              "      <th></th>\n",
              "      <th>Columna</th>\n",
              "    </tr>\n",
              "  </thead>\n",
              "  <tbody>\n",
              "    <tr>\n",
              "      <th>count</th>\n",
              "      <td>10.00000</td>\n",
              "    </tr>\n",
              "    <tr>\n",
              "      <th>mean</th>\n",
              "      <td>5.50000</td>\n",
              "    </tr>\n",
              "    <tr>\n",
              "      <th>std</th>\n",
              "      <td>3.02765</td>\n",
              "    </tr>\n",
              "    <tr>\n",
              "      <th>min</th>\n",
              "      <td>1.00000</td>\n",
              "    </tr>\n",
              "    <tr>\n",
              "      <th>25%</th>\n",
              "      <td>3.25000</td>\n",
              "    </tr>\n",
              "    <tr>\n",
              "      <th>50%</th>\n",
              "      <td>5.50000</td>\n",
              "    </tr>\n",
              "    <tr>\n",
              "      <th>75%</th>\n",
              "      <td>7.75000</td>\n",
              "    </tr>\n",
              "    <tr>\n",
              "      <th>max</th>\n",
              "      <td>10.00000</td>\n",
              "    </tr>\n",
              "  </tbody>\n",
              "</table>\n",
              "</div>\n",
              "    <div class=\"colab-df-buttons\">\n",
              "\n",
              "  <div class=\"colab-df-container\">\n",
              "    <button class=\"colab-df-convert\" onclick=\"convertToInteractive('df-0ae2607e-005b-49c7-a8e0-f4c336f6bb43')\"\n",
              "            title=\"Convert this dataframe to an interactive table.\"\n",
              "            style=\"display:none;\">\n",
              "\n",
              "  <svg xmlns=\"http://www.w3.org/2000/svg\" height=\"24px\" viewBox=\"0 -960 960 960\">\n",
              "    <path d=\"M120-120v-720h720v720H120Zm60-500h600v-160H180v160Zm220 220h160v-160H400v160Zm0 220h160v-160H400v160ZM180-400h160v-160H180v160Zm440 0h160v-160H620v160ZM180-180h160v-160H180v160Zm440 0h160v-160H620v160Z\"/>\n",
              "  </svg>\n",
              "    </button>\n",
              "\n",
              "  <style>\n",
              "    .colab-df-container {\n",
              "      display:flex;\n",
              "      gap: 12px;\n",
              "    }\n",
              "\n",
              "    .colab-df-convert {\n",
              "      background-color: #E8F0FE;\n",
              "      border: none;\n",
              "      border-radius: 50%;\n",
              "      cursor: pointer;\n",
              "      display: none;\n",
              "      fill: #1967D2;\n",
              "      height: 32px;\n",
              "      padding: 0 0 0 0;\n",
              "      width: 32px;\n",
              "    }\n",
              "\n",
              "    .colab-df-convert:hover {\n",
              "      background-color: #E2EBFA;\n",
              "      box-shadow: 0px 1px 2px rgba(60, 64, 67, 0.3), 0px 1px 3px 1px rgba(60, 64, 67, 0.15);\n",
              "      fill: #174EA6;\n",
              "    }\n",
              "\n",
              "    .colab-df-buttons div {\n",
              "      margin-bottom: 4px;\n",
              "    }\n",
              "\n",
              "    [theme=dark] .colab-df-convert {\n",
              "      background-color: #3B4455;\n",
              "      fill: #D2E3FC;\n",
              "    }\n",
              "\n",
              "    [theme=dark] .colab-df-convert:hover {\n",
              "      background-color: #434B5C;\n",
              "      box-shadow: 0px 1px 3px 1px rgba(0, 0, 0, 0.15);\n",
              "      filter: drop-shadow(0px 1px 2px rgba(0, 0, 0, 0.3));\n",
              "      fill: #FFFFFF;\n",
              "    }\n",
              "  </style>\n",
              "\n",
              "    <script>\n",
              "      const buttonEl =\n",
              "        document.querySelector('#df-0ae2607e-005b-49c7-a8e0-f4c336f6bb43 button.colab-df-convert');\n",
              "      buttonEl.style.display =\n",
              "        google.colab.kernel.accessAllowed ? 'block' : 'none';\n",
              "\n",
              "      async function convertToInteractive(key) {\n",
              "        const element = document.querySelector('#df-0ae2607e-005b-49c7-a8e0-f4c336f6bb43');\n",
              "        const dataTable =\n",
              "          await google.colab.kernel.invokeFunction('convertToInteractive',\n",
              "                                                    [key], {});\n",
              "        if (!dataTable) return;\n",
              "\n",
              "        const docLinkHtml = 'Like what you see? Visit the ' +\n",
              "          '<a target=\"_blank\" href=https://colab.research.google.com/notebooks/data_table.ipynb>data table notebook</a>'\n",
              "          + ' to learn more about interactive tables.';\n",
              "        element.innerHTML = '';\n",
              "        dataTable['output_type'] = 'display_data';\n",
              "        await google.colab.output.renderOutput(dataTable, element);\n",
              "        const docLink = document.createElement('div');\n",
              "        docLink.innerHTML = docLinkHtml;\n",
              "        element.appendChild(docLink);\n",
              "      }\n",
              "    </script>\n",
              "  </div>\n",
              "\n",
              "\n",
              "<div id=\"df-f86b3789-b06a-4797-9113-1ed1c4366e53\">\n",
              "  <button class=\"colab-df-quickchart\" onclick=\"quickchart('df-f86b3789-b06a-4797-9113-1ed1c4366e53')\"\n",
              "            title=\"Suggest charts\"\n",
              "            style=\"display:none;\">\n",
              "\n",
              "<svg xmlns=\"http://www.w3.org/2000/svg\" height=\"24px\"viewBox=\"0 0 24 24\"\n",
              "     width=\"24px\">\n",
              "    <g>\n",
              "        <path d=\"M19 3H5c-1.1 0-2 .9-2 2v14c0 1.1.9 2 2 2h14c1.1 0 2-.9 2-2V5c0-1.1-.9-2-2-2zM9 17H7v-7h2v7zm4 0h-2V7h2v10zm4 0h-2v-4h2v4z\"/>\n",
              "    </g>\n",
              "</svg>\n",
              "  </button>\n",
              "\n",
              "<style>\n",
              "  .colab-df-quickchart {\n",
              "      --bg-color: #E8F0FE;\n",
              "      --fill-color: #1967D2;\n",
              "      --hover-bg-color: #E2EBFA;\n",
              "      --hover-fill-color: #174EA6;\n",
              "      --disabled-fill-color: #AAA;\n",
              "      --disabled-bg-color: #DDD;\n",
              "  }\n",
              "\n",
              "  [theme=dark] .colab-df-quickchart {\n",
              "      --bg-color: #3B4455;\n",
              "      --fill-color: #D2E3FC;\n",
              "      --hover-bg-color: #434B5C;\n",
              "      --hover-fill-color: #FFFFFF;\n",
              "      --disabled-bg-color: #3B4455;\n",
              "      --disabled-fill-color: #666;\n",
              "  }\n",
              "\n",
              "  .colab-df-quickchart {\n",
              "    background-color: var(--bg-color);\n",
              "    border: none;\n",
              "    border-radius: 50%;\n",
              "    cursor: pointer;\n",
              "    display: none;\n",
              "    fill: var(--fill-color);\n",
              "    height: 32px;\n",
              "    padding: 0;\n",
              "    width: 32px;\n",
              "  }\n",
              "\n",
              "  .colab-df-quickchart:hover {\n",
              "    background-color: var(--hover-bg-color);\n",
              "    box-shadow: 0 1px 2px rgba(60, 64, 67, 0.3), 0 1px 3px 1px rgba(60, 64, 67, 0.15);\n",
              "    fill: var(--button-hover-fill-color);\n",
              "  }\n",
              "\n",
              "  .colab-df-quickchart-complete:disabled,\n",
              "  .colab-df-quickchart-complete:disabled:hover {\n",
              "    background-color: var(--disabled-bg-color);\n",
              "    fill: var(--disabled-fill-color);\n",
              "    box-shadow: none;\n",
              "  }\n",
              "\n",
              "  .colab-df-spinner {\n",
              "    border: 2px solid var(--fill-color);\n",
              "    border-color: transparent;\n",
              "    border-bottom-color: var(--fill-color);\n",
              "    animation:\n",
              "      spin 1s steps(1) infinite;\n",
              "  }\n",
              "\n",
              "  @keyframes spin {\n",
              "    0% {\n",
              "      border-color: transparent;\n",
              "      border-bottom-color: var(--fill-color);\n",
              "      border-left-color: var(--fill-color);\n",
              "    }\n",
              "    20% {\n",
              "      border-color: transparent;\n",
              "      border-left-color: var(--fill-color);\n",
              "      border-top-color: var(--fill-color);\n",
              "    }\n",
              "    30% {\n",
              "      border-color: transparent;\n",
              "      border-left-color: var(--fill-color);\n",
              "      border-top-color: var(--fill-color);\n",
              "      border-right-color: var(--fill-color);\n",
              "    }\n",
              "    40% {\n",
              "      border-color: transparent;\n",
              "      border-right-color: var(--fill-color);\n",
              "      border-top-color: var(--fill-color);\n",
              "    }\n",
              "    60% {\n",
              "      border-color: transparent;\n",
              "      border-right-color: var(--fill-color);\n",
              "    }\n",
              "    80% {\n",
              "      border-color: transparent;\n",
              "      border-right-color: var(--fill-color);\n",
              "      border-bottom-color: var(--fill-color);\n",
              "    }\n",
              "    90% {\n",
              "      border-color: transparent;\n",
              "      border-bottom-color: var(--fill-color);\n",
              "    }\n",
              "  }\n",
              "</style>\n",
              "\n",
              "  <script>\n",
              "    async function quickchart(key) {\n",
              "      const quickchartButtonEl =\n",
              "        document.querySelector('#' + key + ' button');\n",
              "      quickchartButtonEl.disabled = true;  // To prevent multiple clicks.\n",
              "      quickchartButtonEl.classList.add('colab-df-spinner');\n",
              "      try {\n",
              "        const charts = await google.colab.kernel.invokeFunction(\n",
              "            'suggestCharts', [key], {});\n",
              "      } catch (error) {\n",
              "        console.error('Error during call to suggestCharts:', error);\n",
              "      }\n",
              "      quickchartButtonEl.classList.remove('colab-df-spinner');\n",
              "      quickchartButtonEl.classList.add('colab-df-quickchart-complete');\n",
              "    }\n",
              "    (() => {\n",
              "      let quickchartButtonEl =\n",
              "        document.querySelector('#df-f86b3789-b06a-4797-9113-1ed1c4366e53 button');\n",
              "      quickchartButtonEl.style.display =\n",
              "        google.colab.kernel.accessAllowed ? 'block' : 'none';\n",
              "    })();\n",
              "  </script>\n",
              "</div>\n",
              "    </div>\n",
              "  </div>\n"
            ]
          },
          "metadata": {},
          "execution_count": 11
        }
      ]
    },
    {
      "cell_type": "code",
      "source": [
        "desviacion_estandar_corregido = np.std(x, ddof=1)\n",
        "print(\"Desviación estándar con Numpy:\", desviacion_estandar_corregido)\n"
      ],
      "metadata": {
        "colab": {
          "base_uri": "https://localhost:8080/"
        },
        "id": "pEKANKyRXrQD",
        "outputId": "ba01d814-95b3-45af-d963-bff8c247e4fa"
      },
      "execution_count": 12,
      "outputs": [
        {
          "output_type": "stream",
          "name": "stdout",
          "text": [
            "Desviación estándar con Numpy: 3.0276503540974917\n"
          ]
        }
      ]
    },
    {
      "cell_type": "code",
      "source": [
        "x = np.array([1,2,3,4,5,6,7,8,9,10])\n",
        "\n",
        "x_df = pd.DataFrame(x)\n",
        "numeric_cols = x_df.select_dtypes(include=['float64', 'int']).columns.to_list()\n",
        "# # Standard scaler - Definimos el tipo de escalamientoa realizar: estandarización Z-score\n",
        "prep = ColumnTransformer(\n",
        "                   [('scale', StandardScaler(), numeric_cols)],remainder='passthrough')\n",
        "\n",
        "x_df_prep_SS = prep.fit_transform(x_df)\n",
        "\n",
        "plt.hist(x_df_prep_SS, 50)\n",
        "plt.ylabel('Número de datos')\n",
        "plt.xlabel('valores')\n",
        "plt.title('Histograma con Standard scaler - Estandarización Z')\n",
        "plt.show()\n",
        "\n",
        "\n",
        "media = np.mean(x_df_prep_SS)\n",
        "mediana = np.median(x_df_prep_SS)\n",
        "desviacion_estandar = np.std(x_df_prep_SS)\n",
        "varianza = np.var(x_df_prep_SS, ddof=1)\n",
        "rango = np.max(x_df_prep_SS) - np.min(x_df_prep_SS)\n",
        "\n",
        "print(f\"Media: {media}\")\n",
        "print(f\"Mediana: {mediana}\")\n",
        "print(f\"Desviación Estándar Muestral: {desviacion_estandar}\")\n",
        "print(f\"Varianza Muestral: {varianza}\")\n",
        "print(f\"Rango: {rango}\")"
      ],
      "metadata": {
        "colab": {
          "base_uri": "https://localhost:8080/",
          "height": 559
        },
        "id": "6ynYSb4jY0kB",
        "outputId": "d3897d68-c34e-40cd-dc79-1ecb52a72216"
      },
      "execution_count": 27,
      "outputs": [
        {
          "output_type": "display_data",
          "data": {
            "text/plain": [
              "<Figure size 640x480 with 1 Axes>"
            ],
            "image/png": "[encoded data removed]"
          },
          "metadata": {}
        },
        {
          "output_type": "stream",
          "name": "stdout",
          "text": [
            "Media: -6.661338147750939e-17\n",
            "Mediana: 0.0\n",
            "Desviación Estándar Muestral: 1.0\n",
            "Varianza Muestral: 1.1111111111111112\n",
            "Rango: 3.1333978072025612\n"
          ]
        }
      ]
    },
    {
      "cell_type": "code",
      "source": [
        "x = np.array([1,2,3,4,5,6,7,8,9,10])\n",
        "\n",
        "x_df = pd.DataFrame(x)\n",
        "numeric_cols = x_df.select_dtypes(include=['float64', 'int']).columns.to_list()\n",
        "\n",
        "# # MinMaxScaler - Definimos el tipo de escalamiento a realizar: Estandarización por rangos\n",
        "preprocessor_RR = ColumnTransformer(\n",
        "                   [('scale', MinMaxScaler(), numeric_cols)],remainder='passthrough')\n",
        "\n",
        "x_df_prep_RR = prep.fit_transform(x_df)\n",
        "\n",
        "plt.hist(x_df_prep_RR, 50)\n",
        "plt.ylabel('Número de datos')\n",
        "plt.xlabel('valores')\n",
        "plt.title('Histograma con MinMaxScaler - Por Rangos')\n",
        "plt.show()\n",
        "\n",
        "\n",
        "media = np.mean(x_df_prep_RR)\n",
        "mediana = np.median(x_df_prep_RR)\n",
        "desviacion_estandar = np.std(x_df_prep_RR)\n",
        "varianza = np.var(x_df_prep_RR, ddof=1)\n",
        "rango = np.max(x_df_prep_RR) - np.min(x_df_prep_RR)\n",
        "\n",
        "print(f\"Media: {media}\")\n",
        "print(f\"Mediana: {mediana}\")\n",
        "print(f\"Desviación Estándar Muestral: {desviacion_estandar}\")\n",
        "print(f\"Varianza Muestral: {varianza}\")\n",
        "print(f\"Rango: {rango}\")\n"
      ],
      "metadata": {
        "colab": {
          "base_uri": "https://localhost:8080/",
          "height": 559
        },
        "id": "0xLVU5Dla_za",
        "outputId": "5b6c13b0-a8a9-4084-8ab6-8f7bbbc55191"
      },
      "execution_count": 29,
      "outputs": [
        {
          "output_type": "display_data",
          "data": {
            "text/plain": [
              "<Figure size 640x480 with 1 Axes>"
            ],
            "image/png": "[encoded data removed]"
          },
          "metadata": {}
        },
        {
          "output_type": "stream",
          "name": "stdout",
          "text": [
            "Media: -6.661338147750939e-17\n",
            "Mediana: 0.0\n",
            "Desviación Estándar Muestral: 1.0\n",
            "Varianza Muestral: 1.1111111111111112\n",
            "Rango: 3.1333978072025612\n"
          ]
        }
      ]
    }
  ]
}