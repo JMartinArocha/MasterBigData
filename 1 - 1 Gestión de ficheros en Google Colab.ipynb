{
  "nbformat": 4,
  "nbformat_minor": 0,
  "metadata": {
    "colab": {
      "provenance": [],
      "authorship_tag": "ABX9TyO8RQw9I7YT6b5UBEIU4eqG",
      "include_colab_link": true
    },
    "kernelspec": {
      "name": "python3",
      "display_name": "Python 3"
    },
    "language_info": {
      "name": "python"
    }
  },
  "cells": [
    {
      "cell_type": "markdown",
      "metadata": {
        "id": "view-in-github",
        "colab_type": "text"
      },
      "source": [
        "<a href=\"https://colab.research.google.com/github/JMartinArocha/MasterBigData/blob/main/1%20-%201%20Gesti%C3%B3n%20de%20ficheros%20en%20Google%20Colab.ipynb\" target=\"_parent\"><img src=\"https://colab.research.google.com/assets/colab-badge.svg\" alt=\"Open In Colab\"/></a>"
      ]
    },
    {
      "cell_type": "code",
      "execution_count": 1,
      "metadata": {
        "colab": {
          "base_uri": "https://localhost:8080/",
          "height": 90
        },
        "id": "g9eeCsbIk9mv",
        "outputId": "a6b6e71e-66df-48c9-d256-2f9b88b8cf32"
      },
      "outputs": [
        {
          "output_type": "display_data",
          "data": {
            "text/plain": [
              "<IPython.core.display.HTML object>"
            ],
            "text/html": [
              "\n",
              "     <input type=\"file\" id=\"files-07914997-0a5f-43fa-8431-50d32c53b785\" name=\"files[]\" multiple disabled\n",
              "        style=\"border:none\" />\n",
              "     <output id=\"result-07914997-0a5f-43fa-8431-50d32c53b785\">\n",
              "      Upload widget is only available when the cell has been executed in the\n",
              "      current browser session. Please rerun this cell to enable.\n",
              "      </output>\n",
              "      <script>// Copyright 2017 Google LLC\n",
              "//\n",
              "// Licensed under the Apache License, Version 2.0 (the \"License\");\n",
              "// you may not use this file except in compliance with the License.\n",
              "// You may obtain a copy of the License at\n",
              "//\n",
              "//      http://www.apache.org/licenses/LICENSE-2.0\n",
              "//\n",
              "// Unless required by applicable law or agreed to in writing, software\n",
              "// distributed under the License is distributed on an \"AS IS\" BASIS,\n",
              "// WITHOUT WARRANTIES OR CONDITIONS OF ANY KIND, either express or implied.\n",
              "// See the License for the specific language governing permissions and\n",
              "// limitations under the License.\n",
              "\n",
              "/**\n",
              " * @fileoverview Helpers for google.colab Python module.\n",
              " */\n",
              "(function(scope) {\n",
              "function span(text, styleAttributes = {}) {\n",
              "  const element = document.createElement('span');\n",
              "  element.textContent = text;\n",
              "  for (const key of Object.keys(styleAttributes)) {\n",
              "    element.style[key] = styleAttributes[key];\n",
              "  }\n",
              "  return element;\n",
              "}\n",
              "\n",
              "// Max number of bytes which will be uploaded at a time.\n",
              "const MAX_PAYLOAD_SIZE = 100 * 1024;\n",
              "\n",
              "function _uploadFiles(inputId, outputId) {\n",
              "  const steps = uploadFilesStep(inputId, outputId);\n",
              "  const outputElement = document.getElementById(outputId);\n",
              "  // Cache steps on the outputElement to make it available for the next call\n",
              "  // to uploadFilesContinue from Python.\n",
              "  outputElement.steps = steps;\n",
              "\n",
              "  return _uploadFilesContinue(outputId);\n",
              "}\n",
              "\n",
              "// This is roughly an async generator (not supported in the browser yet),\n",
              "// where there are multiple asynchronous steps and the Python side is going\n",
              "// to poll for completion of each step.\n",
              "// This uses a Promise to block the python side on completion of each step,\n",
              "// then passes the result of the previous step as the input to the next step.\n",
              "function _uploadFilesContinue(outputId) {\n",
              "  const outputElement = document.getElementById(outputId);\n",
              "  const steps = outputElement.steps;\n",
              "\n",
              "  const next = steps.next(outputElement.lastPromiseValue);\n",
              "  return Promise.resolve(next.value.promise).then((value) => {\n",
              "    // Cache the last promise value to make it available to the next\n",
              "    // step of the generator.\n",
              "    outputElement.lastPromiseValue = value;\n",
              "    return next.value.response;\n",
              "  });\n",
              "}\n",
              "\n",
              "/**\n",
              " * Generator function which is called between each async step of the upload\n",
              " * process.\n",
              " * @param {string} inputId Element ID of the input file picker element.\n",
              " * @param {string} outputId Element ID of the output display.\n",
              " * @return {!Iterable<!Object>} Iterable of next steps.\n",
              " */\n",
              "function* uploadFilesStep(inputId, outputId) {\n",
              "  const inputElement = document.getElementById(inputId);\n",
              "  inputElement.disabled = false;\n",
              "\n",
              "  const outputElement = document.getElementById(outputId);\n",
              "  outputElement.innerHTML = '';\n",
              "\n",
              "  const pickedPromise = new Promise((resolve) => {\n",
              "    inputElement.addEventListener('change', (e) => {\n",
              "      resolve(e.target.files);\n",
              "    });\n",
              "  });\n",
              "\n",
              "  const cancel = document.createElement('button');\n",
              "  inputElement.parentElement.appendChild(cancel);\n",
              "  cancel.textContent = 'Cancel upload';\n",
              "  const cancelPromise = new Promise((resolve) => {\n",
              "    cancel.onclick = () => {\n",
              "      resolve(null);\n",
              "    };\n",
              "  });\n",
              "\n",
              "  // Wait for the user to pick the files.\n",
              "  const files = yield {\n",
              "    promise: Promise.race([pickedPromise, cancelPromise]),\n",
              "    response: {\n",
              "      action: 'starting',\n",
              "    }\n",
              "  };\n",
              "\n",
              "  cancel.remove();\n",
              "\n",
              "  // Disable the input element since further picks are not allowed.\n",
              "  inputElement.disabled = true;\n",
              "\n",
              "  if (!files) {\n",
              "    return {\n",
              "      response: {\n",
              "        action: 'complete',\n",
              "      }\n",
              "    };\n",
              "  }\n",
              "\n",
              "  for (const file of files) {\n",
              "    const li = document.createElement('li');\n",
              "    li.append(span(file.name, {fontWeight: 'bold'}));\n",
              "    li.append(span(\n",
              "        `(${file.type || 'n/a'}) - ${file.size} bytes, ` +\n",
              "        `last modified: ${\n",
              "            file.lastModifiedDate ? file.lastModifiedDate.toLocaleDateString() :\n",
              "                                    'n/a'} - `));\n",
              "    const percent = span('0% done');\n",
              "    li.appendChild(percent);\n",
              "\n",
              "    outputElement.appendChild(li);\n",
              "\n",
              "    const fileDataPromise = new Promise((resolve) => {\n",
              "      const reader = new FileReader();\n",
              "      reader.onload = (e) => {\n",
              "        resolve(e.target.result);\n",
              "      };\n",
              "      reader.readAsArrayBuffer(file);\n",
              "    });\n",
              "    // Wait for the data to be ready.\n",
              "    let fileData = yield {\n",
              "      promise: fileDataPromise,\n",
              "      response: {\n",
              "        action: 'continue',\n",
              "      }\n",
              "    };\n",
              "\n",
              "    // Use a chunked sending to avoid message size limits. See b/62115660.\n",
              "    let position = 0;\n",
              "    do {\n",
              "      const length = Math.min(fileData.byteLength - position, MAX_PAYLOAD_SIZE);\n",
              "      const chunk = new Uint8Array(fileData, position, length);\n",
              "      position += length;\n",
              "\n",
              "      const base64 = btoa(String.fromCharCode.apply(null, chunk));\n",
              "      yield {\n",
              "        response: {\n",
              "          action: 'append',\n",
              "          file: file.name,\n",
              "          data: base64,\n",
              "        },\n",
              "      };\n",
              "\n",
              "      let percentDone = fileData.byteLength === 0 ?\n",
              "          100 :\n",
              "          Math.round((position / fileData.byteLength) * 100);\n",
              "      percent.textContent = `${percentDone}% done`;\n",
              "\n",
              "    } while (position < fileData.byteLength);\n",
              "  }\n",
              "\n",
              "  // All done.\n",
              "  yield {\n",
              "    response: {\n",
              "      action: 'complete',\n",
              "    }\n",
              "  };\n",
              "}\n",
              "\n",
              "scope.google = scope.google || {};\n",
              "scope.google.colab = scope.google.colab || {};\n",
              "scope.google.colab._files = {\n",
              "  _uploadFiles,\n",
              "  _uploadFilesContinue,\n",
              "};\n",
              "})(self);\n",
              "</script> "
            ]
          },
          "metadata": {}
        },
        {
          "output_type": "stream",
          "name": "stdout",
          "text": [
            "Saving actividad1_texto_prueba.txt to actividad1_texto_prueba.txt\n",
            "User uploaded file \"actividad1_texto_prueba.txt\" with length 12 bytes\n"
          ]
        }
      ],
      "source": [
        "#Ejer 01: Crear en el PC un fichero con un contenido de Loren Ipsum y subirlo\n",
        "from google.colab import files\n",
        "\n",
        "uploaded = files.upload()\n",
        "\n",
        "for fn in uploaded.keys():\n",
        "  print('User uploaded file \"{name}\" with length {length} bytes'.format(\n",
        "      name=fn, length=len(uploaded[fn])))"
      ]
    },
    {
      "cell_type": "code",
      "source": [
        "#Ejer 02: Descargar el fichero subido en el apartado anterior\n",
        "from google.colab import files\n",
        "\n",
        "with open('actividad1_texto_prueba.txt', 'w') as f:\n",
        "  f.write('some content')\n",
        "\n",
        "files.download('actividad1_texto_prueba.txt')"
      ],
      "metadata": {
        "colab": {
          "base_uri": "https://localhost:8080/",
          "height": 17
        },
        "id": "uQ1QeIdNlJVh",
        "outputId": "fee4fd75-261d-4b67-b7c7-dd938860e56f"
      },
      "execution_count": 2,
      "outputs": [
        {
          "output_type": "display_data",
          "data": {
            "text/plain": [
              "<IPython.core.display.Javascript object>"
            ],
            "application/javascript": [
              "\n",
              "    async function download(id, filename, size) {\n",
              "      if (!google.colab.kernel.accessAllowed) {\n",
              "        return;\n",
              "      }\n",
              "      const div = document.createElement('div');\n",
              "      const label = document.createElement('label');\n",
              "      label.textContent = `Downloading \"${filename}\": `;\n",
              "      div.appendChild(label);\n",
              "      const progress = document.createElement('progress');\n",
              "      progress.max = size;\n",
              "      div.appendChild(progress);\n",
              "      document.body.appendChild(div);\n",
              "\n",
              "      const buffers = [];\n",
              "      let downloaded = 0;\n",
              "\n",
              "      const channel = await google.colab.kernel.comms.open(id);\n",
              "      // Send a message to notify the kernel that we're ready.\n",
              "      channel.send({})\n",
              "\n",
              "      for await (const message of channel.messages) {\n",
              "        // Send a message to notify the kernel that we're ready.\n",
              "        channel.send({})\n",
              "        if (message.buffers) {\n",
              "          for (const buffer of message.buffers) {\n",
              "            buffers.push(buffer);\n",
              "            downloaded += buffer.byteLength;\n",
              "            progress.value = downloaded;\n",
              "          }\n",
              "        }\n",
              "      }\n",
              "      const blob = new Blob(buffers, {type: 'application/binary'});\n",
              "      const a = document.createElement('a');\n",
              "      a.href = window.URL.createObjectURL(blob);\n",
              "      a.download = filename;\n",
              "      div.appendChild(a);\n",
              "      a.click();\n",
              "      div.remove();\n",
              "    }\n",
              "  "
            ]
          },
          "metadata": {}
        },
        {
          "output_type": "display_data",
          "data": {
            "text/plain": [
              "<IPython.core.display.Javascript object>"
            ],
            "application/javascript": [
              "download(\"download_8951306c-2f00-4ae1-8bd2-804db3782495\", \"actividad1_texto_prueba.txt\", 12)"
            ]
          },
          "metadata": {}
        }
      ]
    },
    {
      "cell_type": "code",
      "source": [
        "#Ejer 03: Crear en drive un directorio llamado GoogleColab_test_Ejer_23_24 y dentro de ella un fichero con un contenido\n",
        "#      de Loren Ipsum. Consultar/verificar su creación en Google Drive y en el navegador de Google Colab\n",
        "\n",
        "# Montar la unidad del drive\n",
        "from google.colab import drive\n",
        "drive.mount('/content/drive')\n",
        "\n",
        "# Muestra las unidades montadas\n",
        "!df -h\n",
        "\n",
        "# Crear los directorios pedidos\n",
        "from google.colab import drive\n",
        "drive.flush_and_unmount # Lo utilizo para poder hacer el ejemplo con autonomía de otras celdas\n",
        "\n",
        "drive.mount('/content/drive', force_remount=True)\n",
        "\n",
        "!mkdir '/content/drive/My Drive/Colab Notebooks/Módulo SNS/'\n",
        "!mkdir '/content/drive/My Drive/Colab Notebooks/Módulo SNS/Curso 2023_2024/'\n",
        "!mkdir '/content/drive/My Drive/Colab Notebooks/Módulo SNS/Curso 2023_2024/Pruebas'\n",
        "!mkdir '/content/drive/My Drive/Colab Notebooks/Módulo SNS/Curso 2023_2024/Pruebas/GoogleColab_test_2023_2024'"
      ],
      "metadata": {
        "colab": {
          "base_uri": "https://localhost:8080/"
        },
        "id": "hf8OcAm1lRxx",
        "outputId": "cec0e63a-16c0-4c1f-bb5d-697e98c1bfac"
      },
      "execution_count": 3,
      "outputs": [
        {
          "output_type": "stream",
          "name": "stdout",
          "text": [
            "Mounted at /content/drive\n",
            "Filesystem      Size  Used Avail Use% Mounted on\n",
            "overlay         108G   27G   82G  25% /\n",
            "tmpfs            64M     0   64M   0% /dev\n",
            "shm             5.8G     0  5.8G   0% /dev/shm\n",
            "/dev/root       2.0G  1.1G  849M  57% /usr/sbin/docker-init\n",
            "tmpfs           6.4G   64K  6.4G   1% /var/colab\n",
            "/dev/sda1        71G   54G   17G  77% /etc/hosts\n",
            "tmpfs           6.4G     0  6.4G   0% /proc/acpi\n",
            "tmpfs           6.4G     0  6.4G   0% /proc/scsi\n",
            "tmpfs           6.4G     0  6.4G   0% /sys/firmware\n",
            "drive            15G   13G  2.3G  86% /content/drive\n",
            "Mounted at /content/drive\n",
            "mkdir: cannot create directory ‘/content/drive/My Drive/Colab Notebooks/Módulo SNS/’: File exists\n",
            "mkdir: cannot create directory ‘/content/drive/My Drive/Colab Notebooks/Módulo SNS/Curso 2023_2024/’: File exists\n",
            "mkdir: cannot create directory ‘/content/drive/My Drive/Colab Notebooks/Módulo SNS/Curso 2023_2024/Pruebas’: File exists\n",
            "mkdir: cannot create directory ‘/content/drive/My Drive/Colab Notebooks/Módulo SNS/Curso 2023_2024/Pruebas/GoogleColab_test_2023_2024’: File exists\n"
          ]
        }
      ]
    },
    {
      "cell_type": "code",
      "source": [
        "#Ejer 04: En la carpeta creada en el ejercicio anterior (GoogleColab_test_Ejer_23_24)\n",
        "# - Crear un fichero cuyo nombre sean tu nombre y apellidos,\n",
        "# - Incluir un texto LorenIpsum distinto al utilizado en el punto anterior (de 50 palabras y añadir tu nombre al principio)\n",
        "# - Al terminar mostrar su contenido.\n",
        "# - Similar al ejemplo. Validar su existencia consultando Gdrive.ListFile  y el explorador de archivos de GoogleColab en este notebook\n",
        "\n",
        "# Url's de referencia:\n",
        "#    https://pythonhosted.org/PyDrive/filemanagement.html\n",
        "#    https://pythonhosted.org/PyDrive/filelist.html#get-all-files-which-matches-the-query\n",
        "#    https://stackoverflow.com/questions/56434084/google-pydrive-uploading-a-file-to-specific-folder\n",
        "\n",
        "\n",
        "# Autenticación con pydrive\n",
        "from pydrive.auth import GoogleAuth\n",
        "from pydrive.drive import GoogleDrive\n",
        "from google.colab import auth\n",
        "from oauth2client.client import GoogleCredentials\n",
        "\n",
        "auth.authenticate_user()\n",
        "gauth = GoogleAuth()\n",
        "gauth.credentials = GoogleCredentials.get_application_default()\n",
        "drive = GoogleDrive(gauth)\n",
        "\n",
        "# Creación del fichero\n",
        "# El ID utilizado es el de la carpeta de destino tal como se pide en el ejercicio\n",
        "uploaded = drive.CreateFile({'title': 'Jose Martin de la Fuente Arocha.txt', \"parents\": [{\"kind\": \"drive#fileLink\", \"id\": '1-1jm6QsIkwzdd5PYAvw2iaQNK15DFenY'}]})\n",
        "uploaded.SetContentString('Lorem ipsum dolor sit amet, consectetur adipiscing elit, sed do eiusmod tempor incididunt ut labore et dolore magna aliqua. Jose Martin de la Fuente Arocha in Python et JavaScript artificial intelligence programming, sed quia non numquam eius modi tempora incidunt ut labore et dolore magnam aliquam quaerat voluptatem. Ut enim ad minima veniam, quis nostrum exercitationem ullam corporis suscipit laboriosam, nisi ut aliquid ex ea commodi consequatur. Big Data analysis et deep learning techniques in Python, quis autem vel eum iure reprehenderit qui in ea voluptate velit esse quam nihil molestiae consequatur, vel illum qui dolorem eum fugiat quo voluptas nulla pariatur.')\n",
        "\n",
        "uploaded.Upload()\n",
        "print('Uploaded file with ID {}'.format(uploaded.get('id')))\n",
        "\n",
        "# Descarga del fichero\n",
        "file = drive.CreateFile({'id': uploaded.get('id')})\n",
        "print('Downloaded content \"{}\"'.format(file.GetContentString()))\n",
        "\n",
        "# Mostrar la existencia del fichero"
      ],
      "metadata": {
        "colab": {
          "base_uri": "https://localhost:8080/"
        },
        "id": "0OF8PNO7llnI",
        "outputId": "9a0d483f-39c7-4b32-ef25-8f029fe1ea5b"
      },
      "execution_count": 4,
      "outputs": [
        {
          "output_type": "stream",
          "name": "stderr",
          "text": [
            "WARNING:root:pydrive is deprecated and no longer maintained. We recommend that you migrate your projects to pydrive2, the maintained fork of pydrive\n"
          ]
        },
        {
          "output_type": "stream",
          "name": "stdout",
          "text": [
            "Uploaded file with ID 1zlBSNEV3Ied_U8q_3jlOMYcO0RXYUXoR\n",
            "Downloaded content \"Lorem ipsum dolor sit amet, consectetur adipiscing elit, sed do eiusmod tempor incididunt ut labore et dolore magna aliqua. Jose Martin de la Fuente Arocha in Python et JavaScript artificial intelligence programming, sed quia non numquam eius modi tempora incidunt ut labore et dolore magnam aliquam quaerat voluptatem. Ut enim ad minima veniam, quis nostrum exercitationem ullam corporis suscipit laboriosam, nisi ut aliquid ex ea commodi consequatur. Big Data analysis et deep learning techniques in Python, quis autem vel eum iure reprehenderit qui in ea voluptate velit esse quam nihil molestiae consequatur, vel illum qui dolorem eum fugiat quo voluptas nulla pariatur.\"\n"
          ]
        }
      ]
    },
    {
      "cell_type": "code",
      "source": [
        "#Ejer 05: Mostrar una lista de los ficheros que existen en el directorio GoogleColab_test_Ejer_23_24\n",
        "\n",
        "# ID de la carpeta de Google Drive\n",
        "folder_id = '1-1jm6QsIkwzdd5PYAvw2iaQNK15DFenY'\n",
        "\n",
        "# Consulta para obtener la lista de archivos en la carpeta específica\n",
        "file_list = drive.ListFile({'q': f\"'{folder_id}' in parents and trashed=false\"}).GetList()\n",
        "for file in file_list:\n",
        "  print('Nombre del archivo: %s, ID: %s' % (file['title'], file['id']))"
      ],
      "metadata": {
        "colab": {
          "base_uri": "https://localhost:8080/"
        },
        "id": "TNdaRRXPmcbk",
        "outputId": "73c60a2d-9da1-4280-95f2-324896d3bad7"
      },
      "execution_count": 5,
      "outputs": [
        {
          "output_type": "stream",
          "name": "stdout",
          "text": [
            "Nombre del archivo: Jose Martin de la Fuente Arocha.txt, ID: 1zlBSNEV3Ied_U8q_3jlOMYcO0RXYUXoR\n",
            "Nombre del archivo: Jose Martin de la Fuente Arocha.txt, ID: 1PTwxYm0zmAkw1swHKQlCjlS0mmKfl325\n",
            "Nombre del archivo: Jose Martin de la Fuente Arocha.txt, ID: 1U-CkMZY2rOK6NGinIXux2nkVT1PspG7U\n",
            "Nombre del archivo: to_upload_23_24.txt, ID: 1-6_YUxcyunwzfnoLAbMx0VIjugBemd8_\n",
            "Nombre del archivo: salvaPruebaFichero_01.txt, ID: 1-6D1Q5qx9bPg6QbI09QFziYoH9pOs0re\n",
            "Nombre del archivo: GoogleColab_test_2023_2024, ID: 1-4UVyqt_FPrYAVsJOJzuIiZn7aBvDvoc\n"
          ]
        }
      ]
    },
    {
      "cell_type": "code",
      "source": [
        "# Ejer 06: Haciendo uso de la api (ejemplo anterior) descargar/mostrar el contenido del fichero que creaste con contenido LorenIpsum\n",
        "#       en la carpeta GoogleColab_test_Ejer y con el nombre tuyo.\n",
        "\n",
        "from google.colab import auth\n",
        "auth.authenticate_user()\n",
        "from googleapiclient.discovery import build\n",
        "drive_service = build('drive', 'v3')\n",
        "\n",
        "# Usamos el ID de uno de los ficheros que consultamos en el paso anterior\n",
        "file_id = '1zlBSNEV3Ied_U8q_3jlOMYcO0RXYUXoR'\n",
        "request = drive_service.files().get_media(fileId=file_id)\n",
        "content = request.execute()\n",
        "\n",
        "print(content)\n"
      ],
      "metadata": {
        "colab": {
          "base_uri": "https://localhost:8080/"
        },
        "id": "bX8gYx5WmuVT",
        "outputId": "bd75dcbd-71e8-448c-8651-b77688dabc9e"
      },
      "execution_count": 7,
      "outputs": [
        {
          "output_type": "stream",
          "name": "stdout",
          "text": [
            "b'Lorem ipsum dolor sit amet, consectetur adipiscing elit, sed do eiusmod tempor incididunt ut labore et dolore magna aliqua. Jose Martin de la Fuente Arocha in Python et JavaScript artificial intelligence programming, sed quia non numquam eius modi tempora incidunt ut labore et dolore magnam aliquam quaerat voluptatem. Ut enim ad minima veniam, quis nostrum exercitationem ullam corporis suscipit laboriosam, nisi ut aliquid ex ea commodi consequatur. Big Data analysis et deep learning techniques in Python, quis autem vel eum iure reprehenderit qui in ea voluptate velit esse quam nihil molestiae consequatur, vel illum qui dolorem eum fugiat quo voluptas nulla pariatur.'\n"
          ]
        }
      ]
    },
    {
      "cell_type": "code",
      "source": [
        "# Ejer 07: Subir a un repositorio de GitHub una hoja de cálculo en formato csv y realizar la importanción a un dataframe,\n",
        "# utilizando como separador de campos un \"punto y coma\" ;\n"
      ],
      "metadata": {
        "id": "e2uYYJr0oTxJ"
      },
      "execution_count": null,
      "outputs": []
    }
  ]
}