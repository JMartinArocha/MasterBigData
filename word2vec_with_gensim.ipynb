{
  "cells": [
    {
      "cell_type": "markdown",
      "metadata": {
        "id": "view-in-github",
        "colab_type": "text"
      },
      "source": [
        "<a href=\"https://colab.research.google.com/github/JMartinArocha/MasterBigData/blob/main/word2vec_with_gensim.ipynb\" target=\"_parent\"><img src=\"https://colab.research.google.com/assets/colab-badge.svg\" alt=\"Open In Colab\"/></a>"
      ]
    },
    {
      "cell_type": "code",
      "execution_count": null,
      "metadata": {
        "id": "LF38I4ABJaqe"
      },
      "outputs": [],
      "source": [
        "!pip install gensim"
      ]
    },
    {
      "cell_type": "code",
      "execution_count": null,
      "metadata": {
        "_cell_guid": "b1076dfc-b9ad-4769-8c92-a6c4dae69d19",
        "_uuid": "8f2839f25d086af736a60e9eeb907d3b93b6e0e5",
        "execution": {
          "iopub.execute_input": "2021-02-20T11:07:50.272043Z",
          "iopub.status.busy": "2021-02-20T11:07:50.271211Z",
          "iopub.status.idle": "2021-02-20T11:07:50.280134Z",
          "shell.execute_reply": "2021-02-20T11:07:50.279510Z"
        },
        "id": "S-ZTYRNcQF0N",
        "papermill": {
          "duration": 0.032491,
          "end_time": "2021-02-20T11:07:50.280332",
          "exception": false,
          "start_time": "2021-02-20T11:07:50.247841",
          "status": "completed"
        },
        "tags": []
      },
      "outputs": [],
      "source": [
        "import numpy as np\n",
        "import pandas as pd\n",
        "from gensim.models import Word2Vec, KeyedVectors\n",
        "import os\n",
        "import nltk"
      ]
    },
    {
      "cell_type": "code",
      "execution_count": null,
      "metadata": {
        "execution": {
          "iopub.execute_input": "2021-02-20T11:08:02.965852Z",
          "iopub.status.busy": "2021-02-20T11:08:02.964800Z",
          "iopub.status.idle": "2021-02-20T11:08:05.477172Z",
          "shell.execute_reply": "2021-02-20T11:08:05.476612Z"
        },
        "id": "VQZ_aO73QF0Q",
        "papermill": {
          "duration": 2.553889,
          "end_time": "2021-02-20T11:08:05.477311",
          "exception": false,
          "start_time": "2021-02-20T11:08:02.923422",
          "status": "completed"
        },
        "tags": []
      },
      "outputs": [],
      "source": [
        "df = pd.read_csv('./reddit_worldnews_start_to_2016-11-22.csv')\n",
        "df.head(10)"
      ]
    },
    {
      "cell_type": "code",
      "execution_count": null,
      "metadata": {
        "execution": {
          "iopub.execute_input": "2021-02-20T11:08:05.614095Z",
          "iopub.status.busy": "2021-02-20T11:08:05.613277Z",
          "iopub.status.idle": "2021-02-20T11:08:05.616877Z",
          "shell.execute_reply": "2021-02-20T11:08:05.616261Z"
        },
        "id": "OgvGq_sTQF0R",
        "papermill": {
          "duration": 0.032278,
          "end_time": "2021-02-20T11:08:05.617011",
          "exception": false,
          "start_time": "2021-02-20T11:08:05.584733",
          "status": "completed"
        },
        "tags": []
      },
      "outputs": [],
      "source": [
        "newsTitles = df['title'].values\n",
        "newsTitles"
      ]
    },
    {
      "cell_type": "code",
      "execution_count": null,
      "metadata": {
        "execution": {
          "iopub.execute_input": "2021-02-20T11:08:05.764729Z",
          "iopub.status.busy": "2021-02-20T11:08:05.751151Z",
          "iopub.status.idle": "2021-02-20T11:08:05.968828Z",
          "shell.execute_reply": "2021-02-20T11:08:05.969494Z"
        },
        "id": "LADajHyDQF0R",
        "outputId": "5e232a5e-7994-4377-862e-a354700f0fc4",
        "papermill": {
          "duration": 0.259603,
          "end_time": "2021-02-20T11:08:05.969690",
          "exception": false,
          "start_time": "2021-02-20T11:08:05.710087",
          "status": "completed"
        },
        "tags": []
      },
      "outputs": [
        {
          "name": "stderr",
          "output_type": "stream",
          "text": [
            "[nltk_data] Downloading package punkt to\n",
            "[nltk_data]     /Users/montevideo/nltk_data...\n",
            "[nltk_data]   Package punkt is already up-to-date!\n"
          ]
        },
        {
          "data": {
            "text/plain": [
              "True"
            ]
          },
          "execution_count": 9,
          "metadata": {},
          "output_type": "execute_result"
        }
      ],
      "source": [
        "nltk.download('punkt')"
      ]
    },
    {
      "cell_type": "code",
      "execution_count": null,
      "metadata": {
        "execution": {
          "iopub.execute_input": "2021-02-20T11:08:06.046431Z",
          "iopub.status.busy": "2021-02-20T11:08:06.045552Z",
          "iopub.status.idle": "2021-02-20T11:09:52.051152Z",
          "shell.execute_reply": "2021-02-20T11:09:52.050566Z"
        },
        "id": "oR5y6dweQF0R",
        "papermill": {
          "duration": 106.046136,
          "end_time": "2021-02-20T11:09:52.051286",
          "exception": false,
          "start_time": "2021-02-20T11:08:06.005150",
          "status": "completed"
        },
        "tags": []
      },
      "outputs": [],
      "source": [
        "newsVec = [nltk.word_tokenize(title) for title in newsTitles]\n",
        "newsVec"
      ]
    },
    {
      "cell_type": "code",
      "execution_count": null,
      "metadata": {
        "execution": {
          "iopub.execute_input": "2021-02-20T11:09:52.423984Z",
          "iopub.status.busy": "2021-02-20T11:09:52.423152Z",
          "iopub.status.idle": "2021-02-20T11:11:28.894716Z",
          "shell.execute_reply": "2021-02-20T11:11:28.894191Z"
        },
        "id": "-YIfzulvQF0S",
        "papermill": {
          "duration": 96.508771,
          "end_time": "2021-02-20T11:11:28.894855",
          "exception": false,
          "start_time": "2021-02-20T11:09:52.386084",
          "status": "completed"
        },
        "tags": []
      },
      "outputs": [],
      "source": [
        "model = Word2Vec(newsVec, min_count = 1, vector_size = 32)"
      ]
    },
    {
      "cell_type": "code",
      "execution_count": null,
      "metadata": {
        "execution": {
          "iopub.execute_input": "2021-02-20T11:11:28.965245Z",
          "iopub.status.busy": "2021-02-20T11:11:28.964437Z",
          "iopub.status.idle": "2021-02-20T11:11:29.003151Z",
          "shell.execute_reply": "2021-02-20T11:11:29.003884Z"
        },
        "id": "RTtagyrpQF0S",
        "outputId": "54f22a5c-444e-4850-def0-bd01030185eb",
        "papermill": {
          "duration": 0.076523,
          "end_time": "2021-02-20T11:11:29.004073",
          "exception": false,
          "start_time": "2021-02-20T11:11:28.927550",
          "status": "completed"
        },
        "tags": []
      },
      "outputs": [
        {
          "data": {
            "text/plain": [
              "[('woman', 0.9789302349090576),\n",
              " ('boy', 0.9064206480979919),\n",
              " ('girl', 0.9060390591621399),\n",
              " ('couple', 0.8927212953567505),\n",
              " ('mother', 0.8677330017089844),\n",
              " ('teenager', 0.8674634695053101),\n",
              " ('family', 0.8611525297164917),\n",
              " ('doctor', 0.8577529191970825),\n",
              " ('father', 0.8408317565917969),\n",
              " ('husband', 0.8379307389259338)]"
            ]
          },
          "execution_count": 16,
          "metadata": {},
          "output_type": "execute_result"
        }
      ],
      "source": [
        "model.wv.most_similar('man')"
      ]
    },
    {
      "cell_type": "code",
      "execution_count": null,
      "metadata": {
        "execution": {
          "iopub.execute_input": "2021-02-20T11:11:29.108426Z",
          "iopub.status.busy": "2021-02-20T11:11:29.107615Z",
          "iopub.status.idle": "2021-02-20T11:11:29.112070Z",
          "shell.execute_reply": "2021-02-20T11:11:29.112823Z"
        },
        "id": "xLmy5B3qQF0S",
        "outputId": "241fd59b-e0d6-42a0-eced-ca1ffb61b6fb",
        "papermill": {
          "duration": 0.063108,
          "end_time": "2021-02-20T11:11:29.113010",
          "exception": false,
          "start_time": "2021-02-20T11:11:29.049902",
          "status": "completed"
        },
        "tags": []
      },
      "outputs": [
        {
          "data": {
            "text/plain": [
              "[('king', 0.9549313187599182),\n",
              " ('prince', 0.8368644118309021),\n",
              " ('monarchy', 0.7840757369995117),\n",
              " ('blogger', 0.7828176021575928),\n",
              " ('cleric', 0.7752383351325989),\n",
              " ('King', 0.7741029858589172),\n",
              " ('politician', 0.7585440874099731),\n",
              " ('royal', 0.7495139837265015),\n",
              " ('princess', 0.7473912239074707),\n",
              " ('writer', 0.7455936670303345)]"
            ]
          },
          "execution_count": 24,
          "metadata": {},
          "output_type": "execute_result"
        }
      ],
      "source": [
        "vec = model.wv.get_vector('king') - model.wv.get_vector('man') + model.wv.get_vector('woman')\n",
        "model.wv.most_similar([vec])"
      ]
    },
    {
      "cell_type": "code",
      "execution_count": null,
      "metadata": {
        "execution": {
          "iopub.execute_input": "2021-02-20T11:11:29.402992Z",
          "iopub.status.busy": "2021-02-20T11:11:29.402363Z",
          "iopub.status.idle": "2021-02-20T11:11:29.555126Z",
          "shell.execute_reply": "2021-02-20T11:11:29.555745Z"
        },
        "id": "qRwo9EfxQF0S",
        "papermill": {
          "duration": 0.211368,
          "end_time": "2021-02-20T11:11:29.555912",
          "exception": false,
          "start_time": "2021-02-20T11:11:29.344544",
          "status": "completed"
        },
        "tags": []
      },
      "outputs": [],
      "source": [
        "model2 = KeyedVectors.load_word2vec_format('./GoogleNews-vectors-negative300.bin.gz', binary = True, limit = 100000)"
      ]
    },
    {
      "cell_type": "code",
      "execution_count": null,
      "metadata": {
        "execution": {
          "iopub.execute_input": "2021-02-20T11:11:29.633517Z",
          "iopub.status.busy": "2021-02-20T11:11:29.632606Z",
          "iopub.status.idle": "2021-02-20T11:11:29.638216Z",
          "shell.execute_reply": "2021-02-20T11:11:29.637588Z"
        },
        "id": "NyTrbSNnQF0T",
        "outputId": "a1861965-daec-442c-a9fb-b0fb7c514e1b",
        "papermill": {
          "duration": 0.047064,
          "end_time": "2021-02-20T11:11:29.638341",
          "exception": false,
          "start_time": "2021-02-20T11:11:29.591277",
          "status": "completed"
        },
        "tags": []
      },
      "outputs": [
        {
          "name": "stdout",
          "output_type": "stream",
          "text": [
            "[ 4.29687500e-02 -1.78222656e-01 -1.29089355e-01  1.15234375e-01\n",
            "  2.68554688e-03 -1.02294922e-01  1.95800781e-01 -1.79504395e-01\n",
            "  1.95312500e-02  4.09919739e-01 -3.68164062e-01 -3.96484375e-01\n",
            " -1.56738281e-01  1.46484375e-03 -9.30175781e-02 -1.16455078e-01\n",
            " -5.51757812e-02 -1.07574463e-01  7.91015625e-02  1.98974609e-01\n",
            "  2.38525391e-01  6.34002686e-02 -2.17285156e-02  0.00000000e+00\n",
            "  4.72412109e-02 -2.17773438e-01 -3.44726562e-01  6.37207031e-02\n",
            "  3.16406250e-01 -1.97631836e-01  8.59375000e-02 -8.11767578e-02\n",
            " -3.71093750e-02  3.15551758e-01 -3.41796875e-01 -4.68750000e-02\n",
            "  9.76562500e-02  8.39843750e-02 -9.71679688e-02  5.17578125e-02\n",
            " -5.00488281e-02 -2.20947266e-01  2.29492188e-01  1.26403809e-01\n",
            "  2.49023438e-01  2.09960938e-02 -1.09863281e-01  5.81054688e-02\n",
            " -3.35693359e-02  1.29577637e-01  2.41699219e-02  3.48129272e-02\n",
            " -2.60009766e-01  2.42309570e-01 -3.21777344e-01  1.45416260e-02\n",
            " -1.59179688e-01 -8.37402344e-02  1.65039062e-01  1.58691406e-03\n",
            "  3.09570312e-01  3.16406250e-01  7.38525391e-03  2.41210938e-01\n",
            "  4.90722656e-02 -9.86328125e-02  2.90527344e-02  1.49414062e-01\n",
            " -4.83398438e-02  2.35595703e-01  2.21191406e-01  1.25488281e-01\n",
            " -1.38671875e-01  1.54296875e-01  7.18994141e-02  1.29882812e-01\n",
            " -1.05712891e-01  6.00585938e-02  3.14697266e-01  1.09619141e-01\n",
            "  8.49609375e-02  7.71484375e-02 -2.17285156e-02  6.11572266e-02\n",
            " -1.89941406e-01  2.07519531e-01 -1.63085938e-01  1.13525391e-01\n",
            "  2.01171875e-01  6.06689453e-02  1.27929688e-01 -3.11279297e-01\n",
            " -2.80151367e-01 -1.55883789e-01  4.15039062e-02  9.87854004e-02\n",
            "  1.69555664e-01 -3.49121094e-02  2.08496094e-01 -9.89990234e-02\n",
            "  4.39453125e-03 -7.27539062e-02 -4.24804688e-02 -4.09179688e-01\n",
            " -2.76367188e-01  1.64062500e-01 -5.57617188e-01 -2.02199936e-01\n",
            "  2.12158203e-01 -9.81445312e-02  2.30773926e-01  2.75878906e-01\n",
            "  1.68092728e-01 -4.50439453e-02  1.71615601e-01 -3.77075195e-01\n",
            " -3.52478027e-03 -3.01513672e-01  1.74224854e-01  3.30078125e-01\n",
            "  2.00683594e-01  1.17736816e-01 -1.37695312e-01 -1.07421875e-01\n",
            "  8.61816406e-02  1.06445312e-01  1.44531250e-01  3.05175781e-03\n",
            "  1.80664062e-02  3.73535156e-02  7.32421875e-03  1.32812500e-01\n",
            "  9.61914062e-02  3.35998535e-01  1.81152344e-01  2.40905762e-01\n",
            " -8.49609375e-02 -1.10107422e-01  2.11914062e-01  5.85937500e-03\n",
            "  1.62109375e-01 -4.15527344e-01  1.39160156e-01  1.01562500e-01\n",
            "  1.44531250e-01 -1.09375000e-01  4.88281250e-02  6.15234375e-02\n",
            " -1.69921875e-01  3.28369141e-02  5.56640625e-02  1.47460938e-01\n",
            " -2.24609375e-02 -2.73925781e-01 -2.81982422e-01 -1.39160156e-01\n",
            " -1.81884766e-01  9.33532715e-02  1.21093750e-01 -5.37109375e-03\n",
            " -1.87500000e-01  3.05175781e-04  5.52734375e-01 -9.71679688e-02\n",
            " -1.81640625e-01 -1.51855469e-01  7.76367188e-02 -2.38281250e-01\n",
            " -2.63977051e-02  2.25555420e-01 -3.02734375e-01  1.34765625e-01\n",
            "  3.23242188e-01  1.25976562e-01  3.51562500e-02 -2.04345703e-01\n",
            "  2.96142578e-01  1.03149414e-01 -4.76074219e-03  1.69189453e-01\n",
            " -3.50585938e-01  2.46887207e-02 -3.90502930e-01 -2.70507812e-01\n",
            "  1.85241699e-02  1.04492188e-01  2.84179688e-01  1.35009766e-01\n",
            " -5.95703125e-02  1.88232422e-01  8.88214111e-02  3.24707031e-02\n",
            " -8.98437500e-02  5.45043945e-02  5.65185547e-02  1.56860352e-01\n",
            " -9.70458984e-03 -7.08007812e-02  5.71289062e-02 -3.08837891e-01\n",
            " -1.91894531e-01  4.83398438e-02  5.22460938e-02 -1.59667969e-01\n",
            " -4.49218750e-02 -7.37304688e-02  5.51757812e-02  2.12402344e-01\n",
            "  2.05322266e-01 -2.73437500e-02  7.86132812e-02  3.19091797e-01\n",
            " -1.56982422e-01 -3.92822266e-01  4.00390625e-02  9.93652344e-02\n",
            " -1.97372437e-02 -8.25195312e-02  2.53906250e-02  3.10668945e-02\n",
            " -3.63769531e-02  1.48925781e-02  2.20703125e-01 -5.98144531e-02\n",
            "  6.15234375e-02 -7.14111328e-02 -4.00390625e-02 -1.03515625e-01\n",
            "  9.22851562e-02  2.71789551e-01 -2.30224609e-01 -2.62695312e-01\n",
            " -5.61523438e-01  1.38549805e-02  1.09863281e-01  7.22656250e-02\n",
            "  4.58984375e-02 -3.31802368e-02 -8.03833008e-02 -6.10351562e-03\n",
            "  2.09960938e-01 -3.86840820e-01  1.44645691e-01  8.05664062e-02\n",
            "  2.96264648e-01 -1.17187500e-02 -2.34680176e-01  1.32019043e-01\n",
            "  2.53906250e-01 -2.46826172e-01  1.03759766e-01  1.14013672e-01\n",
            "  1.71875000e-01 -5.61523438e-03  2.05078125e-01  6.34765625e-02\n",
            " -4.51293945e-01 -2.26562500e-01 -1.03027344e-01 -1.31469727e-01\n",
            "  3.75976562e-02  2.70996094e-01 -2.39257812e-01  3.80859375e-02\n",
            " -3.90625000e-02 -9.42382812e-02  8.30078125e-03  7.03125000e-02\n",
            "  2.75390625e-01  3.31542969e-01 -1.07421875e-02  3.72192383e-01\n",
            " -1.24511719e-01  1.94335938e-01 -1.35620117e-01 -3.09570312e-01\n",
            " -2.36328125e-01 -1.26953125e-02 -2.76855469e-01  1.57714844e-01\n",
            "  3.07617188e-01 -2.32910156e-01  3.25439453e-01  1.36718750e-02\n",
            "  1.99462891e-01 -2.61840820e-02 -8.08105469e-02 -7.50732422e-02\n",
            " -4.11109924e-02  1.95556641e-01 -5.64270020e-02 -2.79296875e-01\n",
            " -2.75390625e-01 -4.04296875e-01 -1.75781250e-02 -5.85937500e-03\n",
            " -7.71484375e-02  1.33789062e-01  2.36816406e-01  2.01538086e-01]\n"
          ]
        }
      ],
      "source": [
        "vec = model2.get_vector('king') - model2.get_vector('man') + model2.get_vector('woman')\n",
        "print(vec)"
      ]
    },
    {
      "cell_type": "code",
      "execution_count": null,
      "metadata": {
        "execution": {
          "iopub.execute_input": "2021-02-20T11:11:29.715984Z",
          "iopub.status.busy": "2021-02-20T11:11:29.715202Z",
          "iopub.status.idle": "2021-02-20T11:11:29.729204Z",
          "shell.execute_reply": "2021-02-20T11:11:29.730217Z"
        },
        "id": "3MMaJ-8qQF0T",
        "outputId": "06a57bb2-7b7b-4130-cb39-3a3a3516f2a2",
        "papermill": {
          "duration": 0.055795,
          "end_time": "2021-02-20T11:11:29.730421",
          "exception": false,
          "start_time": "2021-02-20T11:11:29.674626",
          "status": "completed"
        },
        "tags": []
      },
      "outputs": [
        {
          "data": {
            "text/plain": [
              "[('king', 0.8449392318725586),\n",
              " ('queen', 0.7300516366958618),\n",
              " ('monarch', 0.6454660296440125),\n",
              " ('princess', 0.6156251430511475),\n",
              " ('crown_prince', 0.5818676948547363),\n",
              " ('prince', 0.5777117609977722),\n",
              " ('kings', 0.5613663792610168),\n",
              " ('sultan', 0.5376776456832886),\n",
              " ('queens', 0.5289887189865112),\n",
              " ('ruler', 0.5247419476509094)]"
            ]
          },
          "execution_count": 40,
          "metadata": {},
          "output_type": "execute_result"
        }
      ],
      "source": [
        "model2.most_similar([vec])"
      ]
    },
    {
      "cell_type": "code",
      "execution_count": null,
      "metadata": {
        "execution": {
          "iopub.execute_input": "2021-02-20T11:11:29.837507Z",
          "iopub.status.busy": "2021-02-20T11:11:29.836743Z",
          "iopub.status.idle": "2021-02-20T11:11:29.839403Z",
          "shell.execute_reply": "2021-02-20T11:11:29.839892Z"
        },
        "id": "fzkaxgxOQF0T",
        "papermill": {
          "duration": 0.05869,
          "end_time": "2021-02-20T11:11:29.840056",
          "exception": false,
          "start_time": "2021-02-20T11:11:29.781366",
          "status": "completed"
        },
        "tags": []
      },
      "outputs": [],
      "source": [
        "vec = model2.get_vector('Germany') - model2.get_vector('Berlin') + model2.get_vector('Paris')"
      ]
    },
    {
      "cell_type": "code",
      "execution_count": null,
      "metadata": {
        "execution": {
          "iopub.execute_input": "2021-02-20T11:11:29.917969Z",
          "iopub.status.busy": "2021-02-20T11:11:29.917389Z",
          "iopub.status.idle": "2021-02-20T11:11:29.927918Z",
          "shell.execute_reply": "2021-02-20T11:11:29.928648Z"
        },
        "id": "OlkZ-aSRQF0T",
        "outputId": "97c2a751-5426-4ffb-a6b4-6407b14d2ffd",
        "papermill": {
          "duration": 0.051364,
          "end_time": "2021-02-20T11:11:29.928849",
          "exception": false,
          "start_time": "2021-02-20T11:11:29.877485",
          "status": "completed"
        },
        "tags": []
      },
      "outputs": [
        {
          "data": {
            "text/plain": [
              "[('France', 0.7724406123161316),\n",
              " ('Paris', 0.6798243522644043),\n",
              " ('Belgium', 0.598486065864563),\n",
              " ('Germany', 0.5652832984924316),\n",
              " ('Spain', 0.550815761089325),\n",
              " ('Italy', 0.5462924838066101),\n",
              " ('Marseille', 0.5372346639633179),\n",
              " ('Switzerland', 0.5364957451820374),\n",
              " ('French', 0.5346113443374634),\n",
              " ('Morocco', 0.5051252841949463)]"
            ]
          },
          "execution_count": 42,
          "metadata": {},
          "output_type": "execute_result"
        }
      ],
      "source": [
        "model2.most_similar([vec])"
      ]
    },
    {
      "cell_type": "code",
      "execution_count": null,
      "metadata": {
        "execution": {
          "iopub.execute_input": "2021-02-20T11:11:30.041645Z",
          "iopub.status.busy": "2021-02-20T11:11:30.041039Z",
          "iopub.status.idle": "2021-02-20T11:11:30.067493Z",
          "shell.execute_reply": "2021-02-20T11:11:30.066843Z"
        },
        "id": "iTD88KP0QF0T",
        "papermill": {
          "duration": 0.086848,
          "end_time": "2021-02-20T11:11:30.067626",
          "exception": false,
          "start_time": "2021-02-20T11:11:29.980778",
          "status": "completed"
        },
        "tags": []
      },
      "outputs": [],
      "source": [
        "vec = model2.get_vector('Messi') - model2.get_vector('football') + model2.get_vector('tennis')"
      ]
    },
    {
      "cell_type": "code",
      "execution_count": null,
      "metadata": {
        "execution": {
          "iopub.execute_input": "2021-02-20T11:11:30.152479Z",
          "iopub.status.busy": "2021-02-20T11:11:30.151810Z",
          "iopub.status.idle": "2021-02-20T11:11:30.165984Z",
          "shell.execute_reply": "2021-02-20T11:11:30.166975Z"
        },
        "id": "un3Wn68uQF0T",
        "outputId": "116e3f24-a64f-463a-ae95-278892f11d51",
        "papermill": {
          "duration": 0.060301,
          "end_time": "2021-02-20T11:11:30.167219",
          "exception": false,
          "start_time": "2021-02-20T11:11:30.106918",
          "status": "completed"
        },
        "tags": []
      },
      "outputs": [
        {
          "data": {
            "text/plain": [
              "[('Messi', 0.7960926294326782),\n",
              " ('Lionel_Messi', 0.7120644450187683),\n",
              " ('Nadal', 0.6976751685142517),\n",
              " ('Del_Potro', 0.6955868005752563),\n",
              " ('Xavi', 0.6640555262565613),\n",
              " ('Federer', 0.6603957414627075),\n",
              " ('Ronaldinho', 0.6550597548484802),\n",
              " ('Safin', 0.6450799107551575),\n",
              " ('Iniesta', 0.642850935459137),\n",
              " ('Wawrinka', 0.6388971209526062)]"
            ]
          },
          "execution_count": 46,
          "metadata": {},
          "output_type": "execute_result"
        }
      ],
      "source": [
        "model2.most_similar([vec])"
      ]
    }
  ],
  "metadata": {
    "colab": {
      "provenance": [],
      "include_colab_link": true
    },
    "kernelspec": {
      "display_name": "Python 3",
      "language": "python",
      "name": "python3"
    },
    "language_info": {
      "codemirror_mode": {
        "name": "ipython",
        "version": 3
      },
      "file_extension": ".py",
      "mimetype": "text/x-python",
      "name": "python",
      "nbconvert_exporter": "python",
      "pygments_lexer": "ipython3",
      "version": "3.11.7"
    },
    "papermill": {
      "default_parameters": {},
      "duration": 229.062881,
      "end_time": "2021-02-20T11:11:32.283381",
      "environment_variables": {},
      "exception": null,
      "input_path": "__notebook__.ipynb",
      "output_path": "__notebook__.ipynb",
      "parameters": {},
      "start_time": "2021-02-20T11:07:43.220500",
      "version": "2.2.2"
    }
  },
  "nbformat": 4,
  "nbformat_minor": 0
}