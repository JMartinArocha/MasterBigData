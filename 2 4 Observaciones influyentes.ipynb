{
  "nbformat": 4,
  "nbformat_minor": 0,
  "metadata": {
    "colab": {
      "provenance": [],
      "include_colab_link": true
    },
    "kernelspec": {
      "name": "python3",
      "display_name": "Python 3"
    },
    "language_info": {
      "name": "python"
    }
  },
  "cells": [
    {
      "cell_type": "markdown",
      "metadata": {
        "id": "view-in-github",
        "colab_type": "text"
      },
      "source": [
        "<a href=\"https://colab.research.google.com/github/JMartinArocha/MasterBigData/blob/main/2%204%20Observaciones%20influyentes.ipynb\" target=\"_parent\"><img src=\"https://colab.research.google.com/assets/colab-badge.svg\" alt=\"Open In Colab\"/></a>"
      ]
    },
    {
      "cell_type": "markdown",
      "metadata": {
        "id": "JNlEk7ihS-5l"
      },
      "source": [
        "# **Ejemplo 2 4:** Determinación de observaciones influyentes\n",
        "# Jose Martin de la Fuente Arocha\n",
        "\n",
        "---\n",
        "\n"
      ]
    },
    {
      "cell_type": "markdown",
      "metadata": {
        "id": "xqnJ20FMVhDE"
      },
      "source": [
        "**PROBLEMA**: Queremos averiguar si existe algún dato  influyente para los procedimientos estadísticos de calcular la **media** y la **mediana**.\n",
        "> Vamos a generar una muestra simulando los ingresos de un vecindario. Supongamos que hay un vecino con unos ingresos signficativamente altos.\n",
        "\n"
      ]
    },
    {
      "cell_type": "code",
      "source": [
        "# LIBRERÍAS EMPLEADAS EN EL EJEMPLO\n",
        "# Tratamiento de datos\n",
        "# ==============================================================================\n",
        "import numpy as np\n",
        "import pandas as pd\n",
        "\n",
        "# Generación de datos\n",
        "# ==============================================================================\n",
        "# Generamos (100 elementos) ingresos uniformemente distribuidos en [15000,25000]\n",
        "datos = 15000+np.random.rand(100)*10000\n",
        "datos_ord = datos\n",
        "datos_ord.sort()\n",
        "datos"
      ],
      "metadata": {
        "id": "e6NC0HJ7Tl4Q",
        "colab": {
          "base_uri": "https://localhost:8080/"
        },
        "outputId": "a5ee6cc5-338e-491b-977d-21e276737495"
      },
      "execution_count": 23,
      "outputs": [
        {
          "output_type": "execute_result",
          "data": {
            "text/plain": [
              "array([15015.79024247, 15217.00695046, 15227.68142822, 15370.17634592,\n",
              "       15429.59312809, 15815.42279318, 15871.23362266, 16058.43901521,\n",
              "       16112.22899514, 16156.7185854 , 16373.82971865, 16524.88121539,\n",
              "       16614.73306967, 16697.71536462, 16764.80573722, 16820.29316512,\n",
              "       17070.69577298, 17071.65316719, 17104.01087005, 17176.07437747,\n",
              "       17313.60622775, 17437.8070221 , 17441.92228989, 17488.22154106,\n",
              "       17489.95954174, 17566.36239716, 17773.13548422, 17968.97936099,\n",
              "       17983.46904693, 18027.67107482, 18353.90629016, 18366.28277795,\n",
              "       18374.79984059, 18389.44525704, 18576.35515132, 18589.61868167,\n",
              "       18596.3382233 , 18605.96912564, 18987.99055363, 19029.62225441,\n",
              "       19223.42378757, 19356.43388812, 19551.90709424, 19694.38933343,\n",
              "       19768.72527495, 19890.03694949, 19905.27406684, 19914.0974481 ,\n",
              "       19915.78778457, 20001.0625568 , 20118.66442397, 20122.24201429,\n",
              "       20193.9067709 , 20296.97890275, 20699.01533904, 20729.70119573,\n",
              "       20841.25245342, 21005.846409  , 21303.17212305, 21352.39080945,\n",
              "       21535.99212693, 21719.73834895, 21752.67419059, 21769.49819868,\n",
              "       21840.90092321, 21992.14452993, 21993.69709592, 22087.48833009,\n",
              "       22111.26925719, 22134.33696275, 22159.56106013, 22309.19673865,\n",
              "       22421.36754713, 22592.52349842, 22608.92109192, 22927.94460449,\n",
              "       22978.53089974, 23097.13153876, 23242.03073674, 23293.48448493,\n",
              "       23304.78777926, 23328.07912865, 23340.12570775, 23372.42089254,\n",
              "       23476.17511894, 23542.10234501, 23683.12723247, 23692.53377409,\n",
              "       23898.29404945, 23946.27334204, 24010.07840852, 24194.0754475 ,\n",
              "       24213.03283093, 24479.49854764, 24621.46727864, 24859.52411745,\n",
              "       24869.13650692, 24870.076725  , 24900.6320748 , 24988.43089116])"
            ]
          },
          "metadata": {},
          "execution_count": 23
        }
      ]
    },
    {
      "cell_type": "markdown",
      "source": [
        "**Ejercicio**: Calcular la media y la mediana antes de realizar la modificación de incluir unos ingresos de 500.000€"
      ],
      "metadata": {
        "id": "ayRFJ682gR2B"
      }
    },
    {
      "cell_type": "code",
      "source": [
        "# Calculo de la media\n",
        "media = np.mean(datos)\n",
        "\n",
        "# Cálculo de la mediana\n",
        "mediana = np.median(datos)\n",
        "\n",
        "print(f\" Media= {media} y Mediana={mediana}\")"
      ],
      "metadata": {
        "colab": {
          "base_uri": "https://localhost:8080/"
        },
        "id": "koedr5iV57XL",
        "outputId": "4a8ab3a9-86a2-422a-cfd3-ffe29ec43108"
      },
      "execution_count": 24,
      "outputs": [
        {
          "output_type": "stream",
          "name": "stdout",
          "text": [
            " Media= 20188.97058697104 y Mediana=20059.863490386022\n"
          ]
        }
      ]
    },
    {
      "cell_type": "code",
      "source": [],
      "metadata": {
        "id": "vGP2BndS5_Mk"
      },
      "execution_count": 20,
      "outputs": []
    },
    {
      "cell_type": "code",
      "metadata": {
        "id": "K3PddQTzeSbe",
        "colab": {
          "base_uri": "https://localhost:8080/"
        },
        "outputId": "0b792dda-a43b-4991-f8c2-1392c002f17d"
      },
      "source": [
        "# El vecino 50 tiene unos ingresos significativamente mayores que el resto\n",
        "datos[50]=500000\n",
        "datos"
      ],
      "execution_count": 31,
      "outputs": [
        {
          "output_type": "execute_result",
          "data": {
            "text/plain": [
              "array([ 15015.79024247,  15217.00695046,  15227.68142822,  15370.17634592,\n",
              "        15429.59312809,  15815.42279318,  15871.23362266,  16058.43901521,\n",
              "        16112.22899514,  16156.7185854 ,  16373.82971865,  16524.88121539,\n",
              "        16614.73306967,  16697.71536462,  16764.80573722,  16820.29316512,\n",
              "        17070.69577298,  17071.65316719,  17104.01087005,  17176.07437747,\n",
              "        17313.60622775,  17437.8070221 ,  17441.92228989,  17488.22154106,\n",
              "        17489.95954174,  17566.36239716,  17773.13548422,  17968.97936099,\n",
              "        17983.46904693,  18027.67107482,  18353.90629016,  18366.28277795,\n",
              "        18374.79984059,  18389.44525704,  18576.35515132,  18589.61868167,\n",
              "        18596.3382233 ,  18605.96912564,  18987.99055363,  19029.62225441,\n",
              "        19223.42378757,  19356.43388812,  19551.90709424,  19694.38933343,\n",
              "        19768.72527495,  19890.03694949,  19905.27406684,  19914.0974481 ,\n",
              "        19915.78778457,  20001.0625568 , 500000.        ,  20122.24201429,\n",
              "        20193.9067709 ,  20296.97890275,  20699.01533904,  20729.70119573,\n",
              "        20841.25245342,  21005.846409  ,  21303.17212305,  21352.39080945,\n",
              "        21535.99212693,  21719.73834895,  21752.67419059,  21769.49819868,\n",
              "        21840.90092321,  21992.14452993,  21993.69709592,  22087.48833009,\n",
              "        22111.26925719,  22134.33696275,  22159.56106013,  22309.19673865,\n",
              "        22421.36754713,  22592.52349842,  22608.92109192,  22927.94460449,\n",
              "        22978.53089974,  23097.13153876,  23242.03073674,  23293.48448493,\n",
              "        23304.78777926,  23328.07912865,  23340.12570775,  23372.42089254,\n",
              "        23476.17511894,  23542.10234501,  23683.12723247,  23692.53377409,\n",
              "        23898.29404945,  23946.27334204,  24010.07840852,  24194.0754475 ,\n",
              "        24213.03283093,  24479.49854764,  24621.46727864,  24859.52411745,\n",
              "        24869.13650692,  24870.076725  ,  24900.6320748 ,  24988.43089116])"
            ]
          },
          "metadata": {},
          "execution_count": 31
        }
      ]
    },
    {
      "cell_type": "markdown",
      "metadata": {
        "id": "iba-kYjPgMR6"
      },
      "source": [
        "Cálculo de media y mediana en toda la muestra"
      ]
    },
    {
      "cell_type": "code",
      "metadata": {
        "colab": {
          "base_uri": "https://localhost:8080/"
        },
        "id": "V-xhWMdvdf1H",
        "outputId": "dacd6520-52cb-4435-ffd4-55bd869c49ae"
      },
      "source": [
        "media=  np.mean(datos)\n",
        "mediana=  np.median (datos) # Es el valor central cuando los datos se ordenan\n",
        "print(f\" Media= {media} y Mediana={mediana}\")"
      ],
      "execution_count": 32,
      "outputs": [
        {
          "output_type": "stream",
          "name": "stdout",
          "text": [
            " Media= 24987.783942731327 y Mediana=20061.652285544107\n"
          ]
        }
      ]
    },
    {
      "cell_type": "markdown",
      "metadata": {
        "id": "Ippzu4RWYVMr"
      },
      "source": [
        "Notar que los ingresos del barrio son aprox. 20000 euros. El hecho que se haya trasladado un vecino rico ha incrementando aprox. en 5000 euros la media. La mediana es insensible a este hecho. Se trata de identificar que datos son influyentess para los dos procedimientos estadísticos"
      ]
    },
    {
      "cell_type": "markdown",
      "source": [
        "Ejercicio: Aplicar el método de describe para ver un resumen estadístico de los datos."
      ],
      "metadata": {
        "id": "6Ys0YA6d1F2k"
      }
    },
    {
      "cell_type": "code",
      "source": [
        "# Insertar el código aquí\n",
        "import pandas as pd\n",
        "\n",
        "# Creando un DataFrame de pandas a partir del array\n",
        "df = pd.DataFrame(datos, columns=['Datos'])\n",
        "\n",
        "# Utilizando el método 'describe' para obtener un resumen estadístico\n",
        "resumen_estadistico = df.describe()\n",
        "resumen_estadistico"
      ],
      "metadata": {
        "id": "8UZKgwmC1Q9L",
        "colab": {
          "base_uri": "https://localhost:8080/",
          "height": 300
        },
        "outputId": "53a9cdd5-f08e-4bb4-880f-a36eb4f51025"
      },
      "execution_count": 33,
      "outputs": [
        {
          "output_type": "execute_result",
          "data": {
            "text/plain": [
              "               Datos\n",
              "count     100.000000\n",
              "mean    24987.783943\n",
              "std     48068.219297\n",
              "min     15015.790242\n",
              "25%     17547.261683\n",
              "50%     20061.652286\n",
              "75%     22940.591178\n",
              "max    500000.000000"
            ],
            "text/html": [
              "\n",
              "  <div id=\"df-1ce18cc8-c150-4c66-9aa4-007b812cbdc0\" class=\"colab-df-container\">\n",
              "    <div>\n",
              "<style scoped>\n",
              "    .dataframe tbody tr th:only-of-type {\n",
              "        vertical-align: middle;\n",
              "    }\n",
              "\n",
              "    .dataframe tbody tr th {\n",
              "        vertical-align: top;\n",
              "    }\n",
              "\n",
              "    .dataframe thead th {\n",
              "        text-align: right;\n",
              "    }\n",
              "</style>\n",
              "<table border=\"1\" class=\"dataframe\">\n",
              "  <thead>\n",
              "    <tr style=\"text-align: right;\">\n",
              "      <th></th>\n",
              "      <th>Datos</th>\n",
              "    </tr>\n",
              "  </thead>\n",
              "  <tbody>\n",
              "    <tr>\n",
              "      <th>count</th>\n",
              "      <td>100.000000</td>\n",
              "    </tr>\n",
              "    <tr>\n",
              "      <th>mean</th>\n",
              "      <td>24987.783943</td>\n",
              "    </tr>\n",
              "    <tr>\n",
              "      <th>std</th>\n",
              "      <td>48068.219297</td>\n",
              "    </tr>\n",
              "    <tr>\n",
              "      <th>min</th>\n",
              "      <td>15015.790242</td>\n",
              "    </tr>\n",
              "    <tr>\n",
              "      <th>25%</th>\n",
              "      <td>17547.261683</td>\n",
              "    </tr>\n",
              "    <tr>\n",
              "      <th>50%</th>\n",
              "      <td>20061.652286</td>\n",
              "    </tr>\n",
              "    <tr>\n",
              "      <th>75%</th>\n",
              "      <td>22940.591178</td>\n",
              "    </tr>\n",
              "    <tr>\n",
              "      <th>max</th>\n",
              "      <td>500000.000000</td>\n",
              "    </tr>\n",
              "  </tbody>\n",
              "</table>\n",
              "</div>\n",
              "    <div class=\"colab-df-buttons\">\n",
              "\n",
              "  <div class=\"colab-df-container\">\n",
              "    <button class=\"colab-df-convert\" onclick=\"convertToInteractive('df-1ce18cc8-c150-4c66-9aa4-007b812cbdc0')\"\n",
              "            title=\"Convert this dataframe to an interactive table.\"\n",
              "            style=\"display:none;\">\n",
              "\n",
              "  <svg xmlns=\"http://www.w3.org/2000/svg\" height=\"24px\" viewBox=\"0 -960 960 960\">\n",
              "    <path d=\"M120-120v-720h720v720H120Zm60-500h600v-160H180v160Zm220 220h160v-160H400v160Zm0 220h160v-160H400v160ZM180-400h160v-160H180v160Zm440 0h160v-160H620v160ZM180-180h160v-160H180v160Zm440 0h160v-160H620v160Z\"/>\n",
              "  </svg>\n",
              "    </button>\n",
              "\n",
              "  <style>\n",
              "    .colab-df-container {\n",
              "      display:flex;\n",
              "      gap: 12px;\n",
              "    }\n",
              "\n",
              "    .colab-df-convert {\n",
              "      background-color: #E8F0FE;\n",
              "      border: none;\n",
              "      border-radius: 50%;\n",
              "      cursor: pointer;\n",
              "      display: none;\n",
              "      fill: #1967D2;\n",
              "      height: 32px;\n",
              "      padding: 0 0 0 0;\n",
              "      width: 32px;\n",
              "    }\n",
              "\n",
              "    .colab-df-convert:hover {\n",
              "      background-color: #E2EBFA;\n",
              "      box-shadow: 0px 1px 2px rgba(60, 64, 67, 0.3), 0px 1px 3px 1px rgba(60, 64, 67, 0.15);\n",
              "      fill: #174EA6;\n",
              "    }\n",
              "\n",
              "    .colab-df-buttons div {\n",
              "      margin-bottom: 4px;\n",
              "    }\n",
              "\n",
              "    [theme=dark] .colab-df-convert {\n",
              "      background-color: #3B4455;\n",
              "      fill: #D2E3FC;\n",
              "    }\n",
              "\n",
              "    [theme=dark] .colab-df-convert:hover {\n",
              "      background-color: #434B5C;\n",
              "      box-shadow: 0px 1px 3px 1px rgba(0, 0, 0, 0.15);\n",
              "      filter: drop-shadow(0px 1px 2px rgba(0, 0, 0, 0.3));\n",
              "      fill: #FFFFFF;\n",
              "    }\n",
              "  </style>\n",
              "\n",
              "    <script>\n",
              "      const buttonEl =\n",
              "        document.querySelector('#df-1ce18cc8-c150-4c66-9aa4-007b812cbdc0 button.colab-df-convert');\n",
              "      buttonEl.style.display =\n",
              "        google.colab.kernel.accessAllowed ? 'block' : 'none';\n",
              "\n",
              "      async function convertToInteractive(key) {\n",
              "        const element = document.querySelector('#df-1ce18cc8-c150-4c66-9aa4-007b812cbdc0');\n",
              "        const dataTable =\n",
              "          await google.colab.kernel.invokeFunction('convertToInteractive',\n",
              "                                                    [key], {});\n",
              "        if (!dataTable) return;\n",
              "\n",
              "        const docLinkHtml = 'Like what you see? Visit the ' +\n",
              "          '<a target=\"_blank\" href=https://colab.research.google.com/notebooks/data_table.ipynb>data table notebook</a>'\n",
              "          + ' to learn more about interactive tables.';\n",
              "        element.innerHTML = '';\n",
              "        dataTable['output_type'] = 'display_data';\n",
              "        await google.colab.output.renderOutput(dataTable, element);\n",
              "        const docLink = document.createElement('div');\n",
              "        docLink.innerHTML = docLinkHtml;\n",
              "        element.appendChild(docLink);\n",
              "      }\n",
              "    </script>\n",
              "  </div>\n",
              "\n",
              "\n",
              "<div id=\"df-69bd1458-a258-4d94-8898-e3ac7c595427\">\n",
              "  <button class=\"colab-df-quickchart\" onclick=\"quickchart('df-69bd1458-a258-4d94-8898-e3ac7c595427')\"\n",
              "            title=\"Suggest charts\"\n",
              "            style=\"display:none;\">\n",
              "\n",
              "<svg xmlns=\"http://www.w3.org/2000/svg\" height=\"24px\"viewBox=\"0 0 24 24\"\n",
              "     width=\"24px\">\n",
              "    <g>\n",
              "        <path d=\"M19 3H5c-1.1 0-2 .9-2 2v14c0 1.1.9 2 2 2h14c1.1 0 2-.9 2-2V5c0-1.1-.9-2-2-2zM9 17H7v-7h2v7zm4 0h-2V7h2v10zm4 0h-2v-4h2v4z\"/>\n",
              "    </g>\n",
              "</svg>\n",
              "  </button>\n",
              "\n",
              "<style>\n",
              "  .colab-df-quickchart {\n",
              "      --bg-color: #E8F0FE;\n",
              "      --fill-color: #1967D2;\n",
              "      --hover-bg-color: #E2EBFA;\n",
              "      --hover-fill-color: #174EA6;\n",
              "      --disabled-fill-color: #AAA;\n",
              "      --disabled-bg-color: #DDD;\n",
              "  }\n",
              "\n",
              "  [theme=dark] .colab-df-quickchart {\n",
              "      --bg-color: #3B4455;\n",
              "      --fill-color: #D2E3FC;\n",
              "      --hover-bg-color: #434B5C;\n",
              "      --hover-fill-color: #FFFFFF;\n",
              "      --disabled-bg-color: #3B4455;\n",
              "      --disabled-fill-color: #666;\n",
              "  }\n",
              "\n",
              "  .colab-df-quickchart {\n",
              "    background-color: var(--bg-color);\n",
              "    border: none;\n",
              "    border-radius: 50%;\n",
              "    cursor: pointer;\n",
              "    display: none;\n",
              "    fill: var(--fill-color);\n",
              "    height: 32px;\n",
              "    padding: 0;\n",
              "    width: 32px;\n",
              "  }\n",
              "\n",
              "  .colab-df-quickchart:hover {\n",
              "    background-color: var(--hover-bg-color);\n",
              "    box-shadow: 0 1px 2px rgba(60, 64, 67, 0.3), 0 1px 3px 1px rgba(60, 64, 67, 0.15);\n",
              "    fill: var(--button-hover-fill-color);\n",
              "  }\n",
              "\n",
              "  .colab-df-quickchart-complete:disabled,\n",
              "  .colab-df-quickchart-complete:disabled:hover {\n",
              "    background-color: var(--disabled-bg-color);\n",
              "    fill: var(--disabled-fill-color);\n",
              "    box-shadow: none;\n",
              "  }\n",
              "\n",
              "  .colab-df-spinner {\n",
              "    border: 2px solid var(--fill-color);\n",
              "    border-color: transparent;\n",
              "    border-bottom-color: var(--fill-color);\n",
              "    animation:\n",
              "      spin 1s steps(1) infinite;\n",
              "  }\n",
              "\n",
              "  @keyframes spin {\n",
              "    0% {\n",
              "      border-color: transparent;\n",
              "      border-bottom-color: var(--fill-color);\n",
              "      border-left-color: var(--fill-color);\n",
              "    }\n",
              "    20% {\n",
              "      border-color: transparent;\n",
              "      border-left-color: var(--fill-color);\n",
              "      border-top-color: var(--fill-color);\n",
              "    }\n",
              "    30% {\n",
              "      border-color: transparent;\n",
              "      border-left-color: var(--fill-color);\n",
              "      border-top-color: var(--fill-color);\n",
              "      border-right-color: var(--fill-color);\n",
              "    }\n",
              "    40% {\n",
              "      border-color: transparent;\n",
              "      border-right-color: var(--fill-color);\n",
              "      border-top-color: var(--fill-color);\n",
              "    }\n",
              "    60% {\n",
              "      border-color: transparent;\n",
              "      border-right-color: var(--fill-color);\n",
              "    }\n",
              "    80% {\n",
              "      border-color: transparent;\n",
              "      border-right-color: var(--fill-color);\n",
              "      border-bottom-color: var(--fill-color);\n",
              "    }\n",
              "    90% {\n",
              "      border-color: transparent;\n",
              "      border-bottom-color: var(--fill-color);\n",
              "    }\n",
              "  }\n",
              "</style>\n",
              "\n",
              "  <script>\n",
              "    async function quickchart(key) {\n",
              "      const quickchartButtonEl =\n",
              "        document.querySelector('#' + key + ' button');\n",
              "      quickchartButtonEl.disabled = true;  // To prevent multiple clicks.\n",
              "      quickchartButtonEl.classList.add('colab-df-spinner');\n",
              "      try {\n",
              "        const charts = await google.colab.kernel.invokeFunction(\n",
              "            'suggestCharts', [key], {});\n",
              "      } catch (error) {\n",
              "        console.error('Error during call to suggestCharts:', error);\n",
              "      }\n",
              "      quickchartButtonEl.classList.remove('colab-df-spinner');\n",
              "      quickchartButtonEl.classList.add('colab-df-quickchart-complete');\n",
              "    }\n",
              "    (() => {\n",
              "      let quickchartButtonEl =\n",
              "        document.querySelector('#df-69bd1458-a258-4d94-8898-e3ac7c595427 button');\n",
              "      quickchartButtonEl.style.display =\n",
              "        google.colab.kernel.accessAllowed ? 'block' : 'none';\n",
              "    })();\n",
              "  </script>\n",
              "</div>\n",
              "    </div>\n",
              "  </div>\n"
            ]
          },
          "metadata": {},
          "execution_count": 33
        }
      ]
    },
    {
      "cell_type": "code",
      "source": [
        "median = df['Datos'].median()\n",
        "mean = df['Datos'].mean()\n",
        "std = df['Datos'].std()\n",
        "size = 1000 # Tamaño de la muestra\n",
        "gausianDistribution = np.random.normal(std, median, size) # Distribución Gausiana\n",
        "\n",
        "\n",
        "import matplotlib.pyplot as plt\n",
        "# Muestra de datos originales\n",
        "x = [x for x in range(len(datos))]\n",
        "plt.plot(x, datos, '-')\n",
        "plt.title(\"Salarios\")\n",
        "plt.show()\n",
        "\n",
        "# Muestra de datos calculados\n",
        "x = [x for x in range(len(gausianDistribution))]\n",
        "plt.plot(x, gausianDistribution, '-')\n",
        "plt.title(\"Salarios\")\n",
        "plt.show()"
      ],
      "metadata": {
        "colab": {
          "base_uri": "https://localhost:8080/",
          "height": 887
        },
        "id": "-EMh97Jh8yxe",
        "outputId": "4ef730ad-494a-477e-84d4-2334f6f7f2b9"
      },
      "execution_count": 54,
      "outputs": [
        {
          "output_type": "display_data",
          "data": {
            "text/plain": [
              "<Figure size 640x480 with 1 Axes>"
            ],
            "image/png": "[encoded data removed]"
          },
          "metadata": {}
        },
        {
          "output_type": "display_data",
          "data": {
            "text/plain": [
              "<Figure size 640x480 with 1 Axes>"
            ],
            "image/png": "[encoded data removed]"
          },
          "metadata": {}
        }
      ]
    },
    {
      "cell_type": "code",
      "source": [
        "# Muestra de datos calculados\n",
        "# bins: Es el número de secciones/barras que se mostrará en la gráfica\n",
        "# density: Muestra la línera roja que indica la densidad (número de puntos) de los grupos creados a partir del parámetro bins\n",
        "\n",
        "# Histograma\n",
        "count, bins, ignored = plt.hist(datos, bins='auto', density=True)\n",
        "\n",
        "# Curva de distribución normal\n",
        "plt.plot(bins, 1/(std * np.sqrt(2 * np.pi)) * np.exp( - (bins - mean)**2 / (2 * std**2) ), linewidth=2, color='r')\n",
        "# plt.plot(bins, 1/(std * np.sqrt(2 * np.pi)) * np.exp( - (bins - median)**2 / (2 * std**2) ), linewidth=2, color='r')\n",
        "plt.ylabel('Porcentaje de datos')\n",
        "plt.xlabel('valores')\n",
        "plt.title(\"Histograma\")\n",
        "plt.show()"
      ],
      "metadata": {
        "colab": {
          "base_uri": "https://localhost:8080/",
          "height": 472
        },
        "id": "Zx-da5TBHmrJ",
        "outputId": "eb43bca3-335f-4036-ff4a-6b1f1bca19fd"
      },
      "execution_count": 55,
      "outputs": [
        {
          "output_type": "display_data",
          "data": {
            "text/plain": [
              "<Figure size 640x480 with 1 Axes>"
            ],
            "image/png": "[encoded data removed]"
          },
          "metadata": {}
        }
      ]
    },
    {
      "cell_type": "code",
      "source": [
        "# Muestra de datos calculados\n",
        "# bins: Es el número de secciones/barras que se mostrará en la gráfica\n",
        "# density: Muestra la línera roja que indica la densidad (número de puntos) de los grupos creados a partir del parámetro bins\n",
        "\n",
        "# Histograma\n",
        "count, bins, ignored = plt.hist(gausianDistribution, bins='auto', density=True)\n",
        "\n",
        "# Curva de distribución normal\n",
        "plt.plot(bins, 1/(std * np.sqrt(2 * np.pi)) * np.exp( - (bins - mean)**2 / (2 * std**2) ), linewidth=2, color='r')\n",
        "# plt.plot(bins, 1/(std * np.sqrt(2 * np.pi)) * np.exp( - (bins - median)**2 / (2 * std**2) ), linewidth=2, color='r')\n",
        "\n",
        "plt.ylabel('Porcentaje de datos')\n",
        "plt.xlabel('valores')\n",
        "plt.title(\"Histograma\")\n",
        "plt.show()\n"
      ],
      "metadata": {
        "colab": {
          "base_uri": "https://localhost:8080/",
          "height": 472
        },
        "id": "Ce6su8tA-JpM",
        "outputId": "5f60ba7c-b632-4c0a-a6d5-10cc2b59a780"
      },
      "execution_count": 56,
      "outputs": [
        {
          "output_type": "display_data",
          "data": {
            "text/plain": [
              "<Figure size 640x480 with 1 Axes>"
            ],
            "image/png": "[encoded data removed]"
          },
          "metadata": {}
        }
      ]
    },
    {
      "cell_type": "markdown",
      "source": [
        "**Ejercicio**: Aplicar el método de Probabilidad global, para detectar los outliers utilizado en el ejemplo 2_3_Outliers"
      ],
      "metadata": {
        "id": "KWZNffk-f-Aq"
      }
    },
    {
      "cell_type": "code",
      "source": [
        "# CRITERIO 1: PROBABILIDAD GLOBAL - Explicado en el capítulo 5 - Preprocesamiento (Semana 2), en la pág 10\n",
        "# Asumiendo que las variables tiene una distribución normal.\n",
        "# Probabilidad de la muestra de estar dentro de las bandas\n",
        "p_g=0.95\n",
        "# probabilidad global\n",
        "alfa_g=(1-p_g)/2\n",
        "# probabilidad  para un solo dato\n",
        "alfa= 1-(1-alfa_g)**(1/len(datos)) # Se realiza este ajuste para ser más precisos.\n",
        "#alfa = alfa_g # Si no realiza la corrección de la línea anterior entonces hubiese detectado más valores que son outliers cuando realmente no lo son. Descomentar esta línea para ver el resultado, que es el mismo que el obtenidoi con el método 2 de este código.\n",
        "                # con esta corrección lo que se pretende es obtener bandas lo sificientemente anchas.\n",
        "\n",
        "alfa=round(alfa,5)\n",
        "print(f\" Alfa ={alfa}\")\n",
        "xL=  round(np.mean(datos)-alfa*  np.std(datos),4)\n",
        "xU=  round(np.mean(datos)+alfa*  np.std(datos),4)\n",
        "\n",
        "# xL=  round(np.median(datos)-alfa*  np.std(datos),4)\n",
        "# xU=  round(np.median(datos)+alfa*  np.std(datos),4)\n",
        "print(f\" Banda= [ {xL},{xU}]\")\n",
        "for i in  range(len(datos)):\n",
        "        if datos[i] < xL  or datos[i]>xU:\n",
        "          print(f\" El dato[{i}]={datos[i]} es un outlier\")"
      ],
      "metadata": {
        "id": "c2KHLLQg0b4r",
        "colab": {
          "base_uri": "https://localhost:8080/"
        },
        "outputId": "99591e0d-61ba-4d62-c034-d2c572a8c558"
      },
      "execution_count": 57,
      "outputs": [
        {
          "output_type": "stream",
          "name": "stdout",
          "text": [
            " Alfa =0.00025\n",
            " Banda= [ 24975.8271,24999.7408]\n",
            " El dato[0]=15015.790242472021 es un outlier\n",
            " El dato[1]=15217.006950458635 es un outlier\n",
            " El dato[2]=15227.681428224772 es un outlier\n",
            " El dato[3]=15370.17634592053 es un outlier\n",
            " El dato[4]=15429.593128089087 es un outlier\n",
            " El dato[5]=15815.422793177871 es un outlier\n",
            " El dato[6]=15871.233622659338 es un outlier\n",
            " El dato[7]=16058.439015206912 es un outlier\n",
            " El dato[8]=16112.228995135147 es un outlier\n",
            " El dato[9]=16156.718585402636 es un outlier\n",
            " El dato[10]=16373.829718647634 es un outlier\n",
            " El dato[11]=16524.881215392696 es un outlier\n",
            " El dato[12]=16614.733069672464 es un outlier\n",
            " El dato[13]=16697.715364621345 es un outlier\n",
            " El dato[14]=16764.805737221825 es un outlier\n",
            " El dato[15]=16820.293165124207 es un outlier\n",
            " El dato[16]=17070.695772981537 es un outlier\n",
            " El dato[17]=17071.653167192937 es un outlier\n",
            " El dato[18]=17104.010870051152 es un outlier\n",
            " El dato[19]=17176.07437746696 es un outlier\n",
            " El dato[20]=17313.606227745993 es un outlier\n",
            " El dato[21]=17437.807022102763 es un outlier\n",
            " El dato[22]=17441.922289887538 es un outlier\n",
            " El dato[23]=17488.22154106201 es un outlier\n",
            " El dato[24]=17489.959541738997 es un outlier\n",
            " El dato[25]=17566.362397163237 es un outlier\n",
            " El dato[26]=17773.135484222308 es un outlier\n",
            " El dato[27]=17968.979360991765 es un outlier\n",
            " El dato[28]=17983.46904692776 es un outlier\n",
            " El dato[29]=18027.671074820806 es un outlier\n",
            " El dato[30]=18353.9062901613 es un outlier\n",
            " El dato[31]=18366.282777953405 es un outlier\n",
            " El dato[32]=18374.79984059336 es un outlier\n",
            " El dato[33]=18389.445257037536 es un outlier\n",
            " El dato[34]=18576.355151316508 es un outlier\n",
            " El dato[35]=18589.618681665248 es un outlier\n",
            " El dato[36]=18596.33822329808 es un outlier\n",
            " El dato[37]=18605.969125644282 es un outlier\n",
            " El dato[38]=18987.990553634558 es un outlier\n",
            " El dato[39]=19029.622254413218 es un outlier\n",
            " El dato[40]=19223.42378756847 es un outlier\n",
            " El dato[41]=19356.433888115313 es un outlier\n",
            " El dato[42]=19551.907094243114 es un outlier\n",
            " El dato[43]=19694.38933342522 es un outlier\n",
            " El dato[44]=19768.725274950943 es un outlier\n",
            " El dato[45]=19890.036949492696 es un outlier\n",
            " El dato[46]=19905.27406684311 es un outlier\n",
            " El dato[47]=19914.097448103945 es un outlier\n",
            " El dato[48]=19915.787784573327 es un outlier\n",
            " El dato[49]=20001.0625568006 es un outlier\n",
            " El dato[50]=500000.0 es un outlier\n",
            " El dato[51]=20122.242014287618 es un outlier\n",
            " El dato[52]=20193.906770904112 es un outlier\n",
            " El dato[53]=20296.97890275106 es un outlier\n",
            " El dato[54]=20699.01533903644 es un outlier\n",
            " El dato[55]=20729.701195729423 es un outlier\n",
            " El dato[56]=20841.252453418936 es un outlier\n",
            " El dato[57]=21005.846408996447 es un outlier\n",
            " El dato[58]=21303.172123046745 es un outlier\n",
            " El dato[59]=21352.390809452245 es un outlier\n",
            " El dato[60]=21535.99212692643 es un outlier\n",
            " El dato[61]=21719.738348949824 es un outlier\n",
            " El dato[62]=21752.674190592992 es un outlier\n",
            " El dato[63]=21769.498198682522 es un outlier\n",
            " El dato[64]=21840.900923206616 es un outlier\n",
            " El dato[65]=21992.144529934456 es un outlier\n",
            " El dato[66]=21993.697095924726 es un outlier\n",
            " El dato[67]=22087.48833009495 es un outlier\n",
            " El dato[68]=22111.26925719161 es un outlier\n",
            " El dato[69]=22134.336962749105 es un outlier\n",
            " El dato[70]=22159.561060127617 es un outlier\n",
            " El dato[71]=22309.196738652186 es un outlier\n",
            " El dato[72]=22421.367547131536 es un outlier\n",
            " El dato[73]=22592.523498415543 es un outlier\n",
            " El dato[74]=22608.921091918408 es un outlier\n",
            " El dato[75]=22927.944604492965 es un outlier\n",
            " El dato[76]=22978.530899743644 es un outlier\n",
            " El dato[77]=23097.1315387561 es un outlier\n",
            " El dato[78]=23242.03073673838 es un outlier\n",
            " El dato[79]=23293.484484931832 es un outlier\n",
            " El dato[80]=23304.787779262402 es un outlier\n",
            " El dato[81]=23328.079128645033 es un outlier\n",
            " El dato[82]=23340.125707748244 es un outlier\n",
            " El dato[83]=23372.420892543632 es un outlier\n",
            " El dato[84]=23476.17511894116 es un outlier\n",
            " El dato[85]=23542.10234500699 es un outlier\n",
            " El dato[86]=23683.127232470157 es un outlier\n",
            " El dato[87]=23692.533774085674 es un outlier\n",
            " El dato[88]=23898.294049449676 es un outlier\n",
            " El dato[89]=23946.273342037777 es un outlier\n",
            " El dato[90]=24010.078408516278 es un outlier\n",
            " El dato[91]=24194.075447499512 es un outlier\n",
            " El dato[92]=24213.032830926124 es un outlier\n",
            " El dato[93]=24479.498547639614 es un outlier\n",
            " El dato[94]=24621.467278635842 es un outlier\n",
            " El dato[95]=24859.52411744893 es un outlier\n",
            " El dato[96]=24869.13650692003 es un outlier\n",
            " El dato[97]=24870.076724999235 es un outlier\n",
            " El dato[98]=24900.63207479901 es un outlier\n"
          ]
        }
      ]
    },
    {
      "cell_type": "markdown",
      "metadata": {
        "id": "pBsJTzKHUegV"
      },
      "source": [
        "Otra forma de detactar los outliers\n",
        "\n",
        "**Método :**  Detectemos los outlier de phi medinate el método Jackknife y a continuación aplicamos el método de la distancia entre Quartiles"
      ]
    },
    {
      "cell_type": "code",
      "metadata": {
        "id": "Aa2N8m89Y4mN",
        "colab": {
          "base_uri": "https://localhost:8080/"
        },
        "outputId": "1d1e71bc-490b-4c71-ab14-6bfa56d05dc2"
      },
      "source": [
        "phi=np.zeros(len(datos)) # phi es un array de la misma longitud que datos pero con el valor cero en cada una de sus posiciones\n",
        "# En el bucle lo que se realiza es el método Jackknife, es decir, prepara los datos para realizar un análisis estadístico sin el dato i.\n",
        "# Para ello, calcula la media de todos los elementos excluyendo el elemento de la posición i que está procesando en el bucle.\n",
        "# De forma que obtiene un índice de calidad del modelo para cada uno de los elementos\n",
        "for i in  range(len(datos)):\n",
        "  datos_aux=datos\n",
        "  datos_sin_i=np.delete(datos_aux, i)\n",
        "  phi[i]=np.mean(datos_sin_i)\n",
        "phi"
      ],
      "execution_count": 58,
      "outputs": [
        {
          "output_type": "execute_result",
          "data": {
            "text/plain": [
              "array([25088.51115182, 25086.47865982, 25086.37083682, 25084.93149421,\n",
              "       25084.3313247 , 25080.43405535, 25079.8703096 , 25077.97934604,\n",
              "       25077.43601291, 25076.98662311, 25074.79358136, 25073.26780866,\n",
              "       25072.36021418, 25071.52200918, 25070.84432865, 25070.28384958,\n",
              "       25067.7545303 , 25067.74485966, 25067.41801417, 25066.69009996,\n",
              "       25065.30088935, 25064.04633587, 25064.00476751, 25063.5370983 ,\n",
              "       25063.51954274, 25062.74779673, 25060.65917969, 25058.68095871,\n",
              "       25058.53459824, 25058.08811311, 25054.79280791, 25054.66779288,\n",
              "       25054.58176194, 25054.43382845, 25052.54584972, 25052.41187466,\n",
              "       25052.3440005 , 25052.24671866, 25048.38791636, 25047.96739413,\n",
              "       25046.00980288, 25044.66626652, 25042.69178969, 25041.25257515,\n",
              "       25040.50170705, 25039.2763366 , 25039.12242633, 25039.03330126,\n",
              "       25039.01622716, 25038.15486582, 20189.68075023, 25036.9308309 ,\n",
              "       25036.20694447, 25035.16581182, 25031.10483772, 25030.79487957,\n",
              "       25029.66809919, 25028.00553398, 25025.00224394, 25024.50508549,\n",
              "       25022.65052673, 25020.79450428, 25020.46181902, 25020.29187954,\n",
              "       25019.5706399 , 25018.0429267 , 25018.02724421, 25017.07985801,\n",
              "       25016.83964663, 25016.6066395 , 25016.35185064, 25014.84037914,\n",
              "       25013.70734067, 25011.97849267, 25011.81286042, 25008.59040069,\n",
              "       25008.07942801, 25006.88144176, 25005.4178135 , 25004.89807867,\n",
              "       25004.78390398, 25004.54863782, 25004.42695521, 25004.10074122,\n",
              "       25003.05271873, 25002.38678715, 25000.96229334, 25000.86727777,\n",
              "       24998.78889115, 24998.30425183, 24997.65975621, 24995.80120026,\n",
              "       24995.60971154, 24992.91813864, 24991.48411106, 24989.07949652,\n",
              "       24988.98240168, 24988.97290453, 24988.66426463, 24987.7774079 ])"
            ]
          },
          "metadata": {},
          "execution_count": 58
        }
      ]
    },
    {
      "cell_type": "markdown",
      "source": [
        "![image.png](data:image/png;base64,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)"
      ],
      "metadata": {
        "id": "BY__yZvc2hi_"
      }
    },
    {
      "cell_type": "code",
      "metadata": {
        "colab": {
          "base_uri": "https://localhost:8080/"
        },
        "id": "02SEYuHJ-iol",
        "outputId": "5ec889ba-d0d1-4a2a-ab88-3b3d28c361e9"
      },
      "source": [
        "# Aplicamos el método de la distancia entre cuartiles, en este caso, al aplicar el método Jackknife no obtenemos\n",
        "# el valor del elemento que es considerado Outlier, sino la posición del mismo.\n",
        "Q1 = np.quantile(phi,0.25)\n",
        "Q3 = np.quantile(phi,0.75)\n",
        "IQR = Q3 - Q1\n",
        "xL=Q1 - 1.5 * IQR\n",
        "xU=Q3 + 1.5 * IQR\n",
        "for i in  range(len(datos)):\n",
        "        if phi[i] < xL  or phi[i]>xU:\n",
        "          print(f\" El dato {i} es una observación influyente para la media\")"
      ],
      "execution_count": 59,
      "outputs": [
        {
          "output_type": "stream",
          "name": "stdout",
          "text": [
            " El dato 50 es una observación influyente para la media\n"
          ]
        }
      ]
    },
    {
      "cell_type": "code",
      "source": [
        "pd.DataFrame(phi).describe()"
      ],
      "metadata": {
        "colab": {
          "base_uri": "https://localhost:8080/",
          "height": 300
        },
        "id": "CEffUKlZ9I7z",
        "outputId": "a21f3e62-4f00-4f04-f78a-78ad2c2462cb"
      },
      "execution_count": 60,
      "outputs": [
        {
          "output_type": "execute_result",
          "data": {
            "text/plain": [
              "                  0\n",
              "count    100.000000\n",
              "mean   24987.783943\n",
              "std      485.537569\n",
              "min    20189.680750\n",
              "25%    25008.462658\n",
              "50%    25037.542848\n",
              "75%    25062.940733\n",
              "max    25088.511152"
            ],
            "text/html": [
              "\n",
              "  <div id=\"df-2eebe865-b219-4ae5-8d72-9de9e5f48228\" class=\"colab-df-container\">\n",
              "    <div>\n",
              "<style scoped>\n",
              "    .dataframe tbody tr th:only-of-type {\n",
              "        vertical-align: middle;\n",
              "    }\n",
              "\n",
              "    .dataframe tbody tr th {\n",
              "        vertical-align: top;\n",
              "    }\n",
              "\n",
              "    .dataframe thead th {\n",
              "        text-align: right;\n",
              "    }\n",
              "</style>\n",
              "<table border=\"1\" class=\"dataframe\">\n",
              "  <thead>\n",
              "    <tr style=\"text-align: right;\">\n",
              "      <th></th>\n",
              "      <th>0</th>\n",
              "    </tr>\n",
              "  </thead>\n",
              "  <tbody>\n",
              "    <tr>\n",
              "      <th>count</th>\n",
              "      <td>100.000000</td>\n",
              "    </tr>\n",
              "    <tr>\n",
              "      <th>mean</th>\n",
              "      <td>24987.783943</td>\n",
              "    </tr>\n",
              "    <tr>\n",
              "      <th>std</th>\n",
              "      <td>485.537569</td>\n",
              "    </tr>\n",
              "    <tr>\n",
              "      <th>min</th>\n",
              "      <td>20189.680750</td>\n",
              "    </tr>\n",
              "    <tr>\n",
              "      <th>25%</th>\n",
              "      <td>25008.462658</td>\n",
              "    </tr>\n",
              "    <tr>\n",
              "      <th>50%</th>\n",
              "      <td>25037.542848</td>\n",
              "    </tr>\n",
              "    <tr>\n",
              "      <th>75%</th>\n",
              "      <td>25062.940733</td>\n",
              "    </tr>\n",
              "    <tr>\n",
              "      <th>max</th>\n",
              "      <td>25088.511152</td>\n",
              "    </tr>\n",
              "  </tbody>\n",
              "</table>\n",
              "</div>\n",
              "    <div class=\"colab-df-buttons\">\n",
              "\n",
              "  <div class=\"colab-df-container\">\n",
              "    <button class=\"colab-df-convert\" onclick=\"convertToInteractive('df-2eebe865-b219-4ae5-8d72-9de9e5f48228')\"\n",
              "            title=\"Convert this dataframe to an interactive table.\"\n",
              "            style=\"display:none;\">\n",
              "\n",
              "  <svg xmlns=\"http://www.w3.org/2000/svg\" height=\"24px\" viewBox=\"0 -960 960 960\">\n",
              "    <path d=\"M120-120v-720h720v720H120Zm60-500h600v-160H180v160Zm220 220h160v-160H400v160Zm0 220h160v-160H400v160ZM180-400h160v-160H180v160Zm440 0h160v-160H620v160ZM180-180h160v-160H180v160Zm440 0h160v-160H620v160Z\"/>\n",
              "  </svg>\n",
              "    </button>\n",
              "\n",
              "  <style>\n",
              "    .colab-df-container {\n",
              "      display:flex;\n",
              "      gap: 12px;\n",
              "    }\n",
              "\n",
              "    .colab-df-convert {\n",
              "      background-color: #E8F0FE;\n",
              "      border: none;\n",
              "      border-radius: 50%;\n",
              "      cursor: pointer;\n",
              "      display: none;\n",
              "      fill: #1967D2;\n",
              "      height: 32px;\n",
              "      padding: 0 0 0 0;\n",
              "      width: 32px;\n",
              "    }\n",
              "\n",
              "    .colab-df-convert:hover {\n",
              "      background-color: #E2EBFA;\n",
              "      box-shadow: 0px 1px 2px rgba(60, 64, 67, 0.3), 0px 1px 3px 1px rgba(60, 64, 67, 0.15);\n",
              "      fill: #174EA6;\n",
              "    }\n",
              "\n",
              "    .colab-df-buttons div {\n",
              "      margin-bottom: 4px;\n",
              "    }\n",
              "\n",
              "    [theme=dark] .colab-df-convert {\n",
              "      background-color: #3B4455;\n",
              "      fill: #D2E3FC;\n",
              "    }\n",
              "\n",
              "    [theme=dark] .colab-df-convert:hover {\n",
              "      background-color: #434B5C;\n",
              "      box-shadow: 0px 1px 3px 1px rgba(0, 0, 0, 0.15);\n",
              "      filter: drop-shadow(0px 1px 2px rgba(0, 0, 0, 0.3));\n",
              "      fill: #FFFFFF;\n",
              "    }\n",
              "  </style>\n",
              "\n",
              "    <script>\n",
              "      const buttonEl =\n",
              "        document.querySelector('#df-2eebe865-b219-4ae5-8d72-9de9e5f48228 button.colab-df-convert');\n",
              "      buttonEl.style.display =\n",
              "        google.colab.kernel.accessAllowed ? 'block' : 'none';\n",
              "\n",
              "      async function convertToInteractive(key) {\n",
              "        const element = document.querySelector('#df-2eebe865-b219-4ae5-8d72-9de9e5f48228');\n",
              "        const dataTable =\n",
              "          await google.colab.kernel.invokeFunction('convertToInteractive',\n",
              "                                                    [key], {});\n",
              "        if (!dataTable) return;\n",
              "\n",
              "        const docLinkHtml = 'Like what you see? Visit the ' +\n",
              "          '<a target=\"_blank\" href=https://colab.research.google.com/notebooks/data_table.ipynb>data table notebook</a>'\n",
              "          + ' to learn more about interactive tables.';\n",
              "        element.innerHTML = '';\n",
              "        dataTable['output_type'] = 'display_data';\n",
              "        await google.colab.output.renderOutput(dataTable, element);\n",
              "        const docLink = document.createElement('div');\n",
              "        docLink.innerHTML = docLinkHtml;\n",
              "        element.appendChild(docLink);\n",
              "      }\n",
              "    </script>\n",
              "  </div>\n",
              "\n",
              "\n",
              "<div id=\"df-3fb3ae71-0178-4b52-82bb-2f8bf7edcaf7\">\n",
              "  <button class=\"colab-df-quickchart\" onclick=\"quickchart('df-3fb3ae71-0178-4b52-82bb-2f8bf7edcaf7')\"\n",
              "            title=\"Suggest charts\"\n",
              "            style=\"display:none;\">\n",
              "\n",
              "<svg xmlns=\"http://www.w3.org/2000/svg\" height=\"24px\"viewBox=\"0 0 24 24\"\n",
              "     width=\"24px\">\n",
              "    <g>\n",
              "        <path d=\"M19 3H5c-1.1 0-2 .9-2 2v14c0 1.1.9 2 2 2h14c1.1 0 2-.9 2-2V5c0-1.1-.9-2-2-2zM9 17H7v-7h2v7zm4 0h-2V7h2v10zm4 0h-2v-4h2v4z\"/>\n",
              "    </g>\n",
              "</svg>\n",
              "  </button>\n",
              "\n",
              "<style>\n",
              "  .colab-df-quickchart {\n",
              "      --bg-color: #E8F0FE;\n",
              "      --fill-color: #1967D2;\n",
              "      --hover-bg-color: #E2EBFA;\n",
              "      --hover-fill-color: #174EA6;\n",
              "      --disabled-fill-color: #AAA;\n",
              "      --disabled-bg-color: #DDD;\n",
              "  }\n",
              "\n",
              "  [theme=dark] .colab-df-quickchart {\n",
              "      --bg-color: #3B4455;\n",
              "      --fill-color: #D2E3FC;\n",
              "      --hover-bg-color: #434B5C;\n",
              "      --hover-fill-color: #FFFFFF;\n",
              "      --disabled-bg-color: #3B4455;\n",
              "      --disabled-fill-color: #666;\n",
              "  }\n",
              "\n",
              "  .colab-df-quickchart {\n",
              "    background-color: var(--bg-color);\n",
              "    border: none;\n",
              "    border-radius: 50%;\n",
              "    cursor: pointer;\n",
              "    display: none;\n",
              "    fill: var(--fill-color);\n",
              "    height: 32px;\n",
              "    padding: 0;\n",
              "    width: 32px;\n",
              "  }\n",
              "\n",
              "  .colab-df-quickchart:hover {\n",
              "    background-color: var(--hover-bg-color);\n",
              "    box-shadow: 0 1px 2px rgba(60, 64, 67, 0.3), 0 1px 3px 1px rgba(60, 64, 67, 0.15);\n",
              "    fill: var(--button-hover-fill-color);\n",
              "  }\n",
              "\n",
              "  .colab-df-quickchart-complete:disabled,\n",
              "  .colab-df-quickchart-complete:disabled:hover {\n",
              "    background-color: var(--disabled-bg-color);\n",
              "    fill: var(--disabled-fill-color);\n",
              "    box-shadow: none;\n",
              "  }\n",
              "\n",
              "  .colab-df-spinner {\n",
              "    border: 2px solid var(--fill-color);\n",
              "    border-color: transparent;\n",
              "    border-bottom-color: var(--fill-color);\n",
              "    animation:\n",
              "      spin 1s steps(1) infinite;\n",
              "  }\n",
              "\n",
              "  @keyframes spin {\n",
              "    0% {\n",
              "      border-color: transparent;\n",
              "      border-bottom-color: var(--fill-color);\n",
              "      border-left-color: var(--fill-color);\n",
              "    }\n",
              "    20% {\n",
              "      border-color: transparent;\n",
              "      border-left-color: var(--fill-color);\n",
              "      border-top-color: var(--fill-color);\n",
              "    }\n",
              "    30% {\n",
              "      border-color: transparent;\n",
              "      border-left-color: var(--fill-color);\n",
              "      border-top-color: var(--fill-color);\n",
              "      border-right-color: var(--fill-color);\n",
              "    }\n",
              "    40% {\n",
              "      border-color: transparent;\n",
              "      border-right-color: var(--fill-color);\n",
              "      border-top-color: var(--fill-color);\n",
              "    }\n",
              "    60% {\n",
              "      border-color: transparent;\n",
              "      border-right-color: var(--fill-color);\n",
              "    }\n",
              "    80% {\n",
              "      border-color: transparent;\n",
              "      border-right-color: var(--fill-color);\n",
              "      border-bottom-color: var(--fill-color);\n",
              "    }\n",
              "    90% {\n",
              "      border-color: transparent;\n",
              "      border-bottom-color: var(--fill-color);\n",
              "    }\n",
              "  }\n",
              "</style>\n",
              "\n",
              "  <script>\n",
              "    async function quickchart(key) {\n",
              "      const quickchartButtonEl =\n",
              "        document.querySelector('#' + key + ' button');\n",
              "      quickchartButtonEl.disabled = true;  // To prevent multiple clicks.\n",
              "      quickchartButtonEl.classList.add('colab-df-spinner');\n",
              "      try {\n",
              "        const charts = await google.colab.kernel.invokeFunction(\n",
              "            'suggestCharts', [key], {});\n",
              "      } catch (error) {\n",
              "        console.error('Error during call to suggestCharts:', error);\n",
              "      }\n",
              "      quickchartButtonEl.classList.remove('colab-df-spinner');\n",
              "      quickchartButtonEl.classList.add('colab-df-quickchart-complete');\n",
              "    }\n",
              "    (() => {\n",
              "      let quickchartButtonEl =\n",
              "        document.querySelector('#df-3fb3ae71-0178-4b52-82bb-2f8bf7edcaf7 button');\n",
              "      quickchartButtonEl.style.display =\n",
              "        google.colab.kernel.accessAllowed ? 'block' : 'none';\n",
              "    })();\n",
              "  </script>\n",
              "</div>\n",
              "    </div>\n",
              "  </div>\n"
            ]
          },
          "metadata": {},
          "execution_count": 60
        }
      ]
    },
    {
      "cell_type": "markdown",
      "metadata": {
        "id": "Jdusuj-NhGIM"
      },
      "source": [
        "**Ejercicio**: Repetir el mismo procedimiento (método Jackenife) de detectar los outliers pero con la mediana en lugar de con la media: ¿Qué ocurre? ¿observas variaciones?"
      ]
    },
    {
      "cell_type": "code",
      "source": [
        "phi=np.zeros(len(datos)) # phi es un array de la misma longitud que datos pero con el valor cero en cada una de sus posiciones\n",
        "# En el bucle lo que se realiza es el método Jackknife, es decir, prepara los datos para realizar un análisis estadístico sin el dato i.\n",
        "# Para ello, calcula la media de todos los elementos excluyendo el elemento de la posición i que está procesando en el bucle.\n",
        "# De forma que obtiene un índice de calidad del modelo para cada uno de los elementos\n",
        "for i in  range(len(datos)):\n",
        "  datos_aux=datos\n",
        "  datos_sin_i=np.delete(datos_aux, i)\n",
        "  phi[i]=np.median(datos_sin_i)\n",
        "print(phi)\n",
        "\n",
        "# Aplicamos el método de la distancia entre cuartiles, en este caso, al aplicar el método Jackknife no obtenemos\n",
        "# el valor del elemento que es considerado Outlier, sino la posición del mismo.\n",
        "Q1 = np.quantile(phi,0.25)\n",
        "Q3 = np.quantile(phi,0.75)\n",
        "IQR = Q3 - Q1\n",
        "xL=Q1 - 1.5 * IQR\n",
        "xU=Q3 + 1.5 * IQR\n",
        "for i in  range(len(datos)):\n",
        "        if phi[i] < xL  or phi[i]>xU:\n",
        "          print(f\" El dato {i} es una observación influyente para la mediana\")\n",
        "\n",
        "# pd.DataFrame(phi).describe()"
      ],
      "metadata": {
        "colab": {
          "base_uri": "https://localhost:8080/"
        },
        "id": "Z26YOv9aH8d-",
        "outputId": "5ae27345-935b-43c8-855c-ee6325ac079b"
      },
      "execution_count": 63,
      "outputs": [
        {
          "output_type": "stream",
          "name": "stdout",
          "text": [
            "[20122.24201429 20122.24201429 20122.24201429 20122.24201429\n",
            " 20122.24201429 20122.24201429 20122.24201429 20122.24201429\n",
            " 20122.24201429 20122.24201429 20122.24201429 20122.24201429\n",
            " 20122.24201429 20122.24201429 20122.24201429 20122.24201429\n",
            " 20122.24201429 20122.24201429 20122.24201429 20122.24201429\n",
            " 20122.24201429 20122.24201429 20122.24201429 20122.24201429\n",
            " 20122.24201429 20122.24201429 20122.24201429 20122.24201429\n",
            " 20122.24201429 20122.24201429 20122.24201429 20122.24201429\n",
            " 20122.24201429 20122.24201429 20122.24201429 20122.24201429\n",
            " 20122.24201429 20122.24201429 20122.24201429 20122.24201429\n",
            " 20122.24201429 20122.24201429 20122.24201429 20122.24201429\n",
            " 20122.24201429 20122.24201429 20122.24201429 20122.24201429\n",
            " 20122.24201429 20122.24201429 20001.0625568  20001.0625568\n",
            " 20001.0625568  20001.0625568  20001.0625568  20001.0625568\n",
            " 20001.0625568  20001.0625568  20001.0625568  20001.0625568\n",
            " 20001.0625568  20001.0625568  20001.0625568  20001.0625568\n",
            " 20001.0625568  20001.0625568  20001.0625568  20001.0625568\n",
            " 20001.0625568  20001.0625568  20001.0625568  20001.0625568\n",
            " 20001.0625568  20001.0625568  20001.0625568  20001.0625568\n",
            " 20001.0625568  20001.0625568  20001.0625568  20001.0625568\n",
            " 20001.0625568  20001.0625568  20001.0625568  20001.0625568\n",
            " 20001.0625568  20001.0625568  20001.0625568  20001.0625568\n",
            " 20001.0625568  20001.0625568  20001.0625568  20001.0625568\n",
            " 20001.0625568  20001.0625568  20001.0625568  20001.0625568\n",
            " 20001.0625568  20001.0625568  20001.0625568  20001.0625568 ]\n"
          ]
        }
      ]
    }
  ]
}